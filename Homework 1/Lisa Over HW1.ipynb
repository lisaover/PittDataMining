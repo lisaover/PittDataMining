{
 "cells": [
  {
   "cell_type": "markdown",
   "metadata": {},
   "source": [
    "# Part I: Linear Regression"
   ]
  },
  {
   "cell_type": "code",
   "execution_count": 273,
   "metadata": {},
   "outputs": [],
   "source": [
    "import warnings;\n",
    "warnings.filterwarnings('ignore');"
   ]
  },
  {
   "cell_type": "code",
   "execution_count": 274,
   "metadata": {},
   "outputs": [],
   "source": [
    "# Import libraries\n",
    "import pandas as pd\n",
    "import matplotlib.pyplot as plt\n",
    "import matplotlib\n",
    "from sklearn import preprocessing\n",
    "import numpy as np\n",
    "from sklearn.model_selection import train_test_split\n",
    "from sklearn import linear_model\n",
    "from sklearn.metrics import r2_score\n",
    "from sklearn.linear_model import RidgeCV\n",
    "from sklearn.linear_model import Ridge\n",
    "from sklearn.linear_model import LassoCV\n",
    "from sklearn.linear_model import Lasso\n",
    "import seaborn as sns"
   ]
  },
  {
   "cell_type": "code",
   "execution_count": 275,
   "metadata": {
    "scrolled": true
   },
   "outputs": [
    {
     "data": {
      "text/html": [
       "<div>\n",
       "<style scoped>\n",
       "    .dataframe tbody tr th:only-of-type {\n",
       "        vertical-align: middle;\n",
       "    }\n",
       "\n",
       "    .dataframe tbody tr th {\n",
       "        vertical-align: top;\n",
       "    }\n",
       "\n",
       "    .dataframe thead th {\n",
       "        text-align: right;\n",
       "    }\n",
       "</style>\n",
       "<table border=\"1\" class=\"dataframe\">\n",
       "  <thead>\n",
       "    <tr style=\"text-align: right;\">\n",
       "      <th></th>\n",
       "      <th>Age</th>\n",
       "      <th>Gender</th>\n",
       "      <th>OwnHome</th>\n",
       "      <th>Married</th>\n",
       "      <th>Location</th>\n",
       "      <th>Salary</th>\n",
       "      <th>Children</th>\n",
       "      <th>History</th>\n",
       "      <th>Catalogs</th>\n",
       "      <th>AmountSpent</th>\n",
       "    </tr>\n",
       "  </thead>\n",
       "  <tbody>\n",
       "    <tr>\n",
       "      <td>0</td>\n",
       "      <td>Old</td>\n",
       "      <td>Female</td>\n",
       "      <td>Own</td>\n",
       "      <td>Single</td>\n",
       "      <td>Far</td>\n",
       "      <td>47500</td>\n",
       "      <td>0</td>\n",
       "      <td>High</td>\n",
       "      <td>6</td>\n",
       "      <td>755</td>\n",
       "    </tr>\n",
       "    <tr>\n",
       "      <td>1</td>\n",
       "      <td>Middle</td>\n",
       "      <td>Male</td>\n",
       "      <td>Rent</td>\n",
       "      <td>Single</td>\n",
       "      <td>Close</td>\n",
       "      <td>63600</td>\n",
       "      <td>0</td>\n",
       "      <td>High</td>\n",
       "      <td>6</td>\n",
       "      <td>1318</td>\n",
       "    </tr>\n",
       "    <tr>\n",
       "      <td>2</td>\n",
       "      <td>Young</td>\n",
       "      <td>Female</td>\n",
       "      <td>Rent</td>\n",
       "      <td>Single</td>\n",
       "      <td>Close</td>\n",
       "      <td>13500</td>\n",
       "      <td>0</td>\n",
       "      <td>Low</td>\n",
       "      <td>18</td>\n",
       "      <td>296</td>\n",
       "    </tr>\n",
       "    <tr>\n",
       "      <td>3</td>\n",
       "      <td>Middle</td>\n",
       "      <td>Male</td>\n",
       "      <td>Own</td>\n",
       "      <td>Married</td>\n",
       "      <td>Close</td>\n",
       "      <td>85600</td>\n",
       "      <td>1</td>\n",
       "      <td>High</td>\n",
       "      <td>18</td>\n",
       "      <td>2436</td>\n",
       "    </tr>\n",
       "    <tr>\n",
       "      <td>4</td>\n",
       "      <td>Middle</td>\n",
       "      <td>Female</td>\n",
       "      <td>Own</td>\n",
       "      <td>Single</td>\n",
       "      <td>Close</td>\n",
       "      <td>68400</td>\n",
       "      <td>0</td>\n",
       "      <td>High</td>\n",
       "      <td>12</td>\n",
       "      <td>1304</td>\n",
       "    </tr>\n",
       "  </tbody>\n",
       "</table>\n",
       "</div>"
      ],
      "text/plain": [
       "      Age  Gender OwnHome  Married Location  Salary  Children History  \\\n",
       "0     Old  Female     Own   Single      Far   47500         0    High   \n",
       "1  Middle    Male    Rent   Single    Close   63600         0    High   \n",
       "2   Young  Female    Rent   Single    Close   13500         0     Low   \n",
       "3  Middle    Male     Own  Married    Close   85600         1    High   \n",
       "4  Middle  Female     Own   Single    Close   68400         0    High   \n",
       "\n",
       "   Catalogs  AmountSpent  \n",
       "0         6          755  \n",
       "1         6         1318  \n",
       "2        18          296  \n",
       "3        18         2436  \n",
       "4        12         1304  "
      ]
     },
     "execution_count": 275,
     "metadata": {},
     "output_type": "execute_result"
    }
   ],
   "source": [
    "# Read in csv file for homework 1\n",
    "pd.set_option('display.max_columns', None)\n",
    "dm = pd.read_csv('HOMEWORK_1_DATASET_DIRECT_MARKETING.csv')\n",
    "\n",
    "# Display the head\n",
    "dm.head()"
   ]
  },
  {
   "cell_type": "markdown",
   "metadata": {},
   "source": [
    "### Question 1: Histograms\n",
    "The ditrsibution of AmountSpent is unimodal and skewed right. The distribution of Salary is unimodal and skewed right. For Salary, the second bin from the left dips a little but it is not low enough to call the distribution bimodal. Reference for histogram code: https://realpython.com/python-histograms/"
   ]
  },
  {
   "cell_type": "code",
   "execution_count": 276,
   "metadata": {},
   "outputs": [
    {
     "data": {
      "image/png": "[encoded data removed]",
      "text/plain": [
       "<Figure size 432x288 with 1 Axes>"
      ]
     },
     "metadata": {
      "needs_background": "light"
     },
     "output_type": "display_data"
    }
   ],
   "source": [
    "# Create a histogram for AmountSpent\n",
    "\n",
    "plt.hist(dm['AmountSpent'],\n",
    "         bins = 25,\n",
    "         alpha=0.5, \n",
    "         rwidth=0.95,\n",
    "         color='#99e6e6')\n",
    "\n",
    "plt.grid(axis='y', alpha=0.75)\n",
    "plt.xlabel('Amount Spent ($)')\n",
    "plt.ylabel('Frequency')\n",
    "plt.title('Direct Marketing Distribution of Amount Spent')\n",
    "\n",
    "#plt.legend(loc = 'upper left')\n",
    "\n",
    "plt.show()"
   ]
  },
  {
   "cell_type": "code",
   "execution_count": 277,
   "metadata": {},
   "outputs": [
    {
     "data": {
      "image/png": "[encoded data removed]",
      "text/plain": [
       "<Figure size 432x288 with 1 Axes>"
      ]
     },
     "metadata": {
      "needs_background": "light"
     },
     "output_type": "display_data"
    }
   ],
   "source": [
    "# Create a histogram for AmountSpent\n",
    "import matplotlib.pyplot as plt\n",
    "\n",
    "plt.hist(dm['Salary'],\n",
    "         bins = 25,\n",
    "         alpha=0.5, \n",
    "         rwidth=0.95,\n",
    "         color='#4da6ff')\n",
    "\n",
    "plt.grid(axis='y', alpha=0.75)\n",
    "plt.xlabel('Salary ($)')\n",
    "plt.ylabel('Frequency')\n",
    "plt.title('Direct Marketing Distribution of Salary')\n",
    "\n",
    "#plt.legend(loc = 'upper left')\n",
    "\n",
    "plt.show()"
   ]
  },
  {
   "cell_type": "markdown",
   "metadata": {},
   "source": [
    "### Question 2: Assumptions - distribution of variables\n",
    "Amount Spent and Salary are skewed right when regression requires variables to be normally distributed. When standardized and transformed by taking the log of AmountSpent and the square root of Salary, the distributions of both AmountSpent and Salary are approximately normally distributed."
   ]
  },
  {
   "cell_type": "markdown",
   "metadata": {},
   "source": [
    "#### AmountSpent"
   ]
  },
  {
   "cell_type": "code",
   "execution_count": 278,
   "metadata": {},
   "outputs": [
    {
     "name": "stdout",
     "output_type": "stream",
     "text": [
      "(array([], dtype=int64),)\n"
     ]
    }
   ],
   "source": [
    "# Check if AmountSpent has any negative numbers even though it would be illogical if there were\n",
    "neg_chk = np.where(dm['AmountSpent']<0)\n",
    "print(neg_chk)"
   ]
  },
  {
   "cell_type": "code",
   "execution_count": 279,
   "metadata": {},
   "outputs": [
    {
     "data": {
      "text/plain": [
       "dtype('int64')"
      ]
     },
     "execution_count": 279,
     "metadata": {},
     "output_type": "execute_result"
    }
   ],
   "source": [
    "# Check data type\n",
    "dm['AmountSpent'].dtypes"
   ]
  },
  {
   "cell_type": "code",
   "execution_count": 280,
   "metadata": {},
   "outputs": [
    {
     "data": {
      "text/plain": [
       "0"
      ]
     },
     "execution_count": 280,
     "metadata": {},
     "output_type": "execute_result"
    }
   ],
   "source": [
    "# Check if any fields are null\n",
    "dm['AmountSpent'].isnull().sum(axis=0)"
   ]
  },
  {
   "cell_type": "code",
   "execution_count": 281,
   "metadata": {},
   "outputs": [
    {
     "data": {
      "text/html": [
       "<div>\n",
       "<style scoped>\n",
       "    .dataframe tbody tr th:only-of-type {\n",
       "        vertical-align: middle;\n",
       "    }\n",
       "\n",
       "    .dataframe tbody tr th {\n",
       "        vertical-align: top;\n",
       "    }\n",
       "\n",
       "    .dataframe thead th {\n",
       "        text-align: right;\n",
       "    }\n",
       "</style>\n",
       "<table border=\"1\" class=\"dataframe\">\n",
       "  <thead>\n",
       "    <tr style=\"text-align: right;\">\n",
       "      <th></th>\n",
       "      <th>Age</th>\n",
       "      <th>Gender</th>\n",
       "      <th>OwnHome</th>\n",
       "      <th>Married</th>\n",
       "      <th>Location</th>\n",
       "      <th>Salary</th>\n",
       "      <th>Children</th>\n",
       "      <th>History</th>\n",
       "      <th>Catalogs</th>\n",
       "      <th>AmountSpent</th>\n",
       "      <th>AmtSpent_t</th>\n",
       "    </tr>\n",
       "  </thead>\n",
       "  <tbody>\n",
       "    <tr>\n",
       "      <td>0</td>\n",
       "      <td>Old</td>\n",
       "      <td>Female</td>\n",
       "      <td>Own</td>\n",
       "      <td>Single</td>\n",
       "      <td>Far</td>\n",
       "      <td>47500</td>\n",
       "      <td>0</td>\n",
       "      <td>High</td>\n",
       "      <td>6</td>\n",
       "      <td>755</td>\n",
       "      <td>6.626718</td>\n",
       "    </tr>\n",
       "    <tr>\n",
       "      <td>1</td>\n",
       "      <td>Middle</td>\n",
       "      <td>Male</td>\n",
       "      <td>Rent</td>\n",
       "      <td>Single</td>\n",
       "      <td>Close</td>\n",
       "      <td>63600</td>\n",
       "      <td>0</td>\n",
       "      <td>High</td>\n",
       "      <td>6</td>\n",
       "      <td>1318</td>\n",
       "      <td>7.183871</td>\n",
       "    </tr>\n",
       "    <tr>\n",
       "      <td>2</td>\n",
       "      <td>Young</td>\n",
       "      <td>Female</td>\n",
       "      <td>Rent</td>\n",
       "      <td>Single</td>\n",
       "      <td>Close</td>\n",
       "      <td>13500</td>\n",
       "      <td>0</td>\n",
       "      <td>Low</td>\n",
       "      <td>18</td>\n",
       "      <td>296</td>\n",
       "      <td>5.690359</td>\n",
       "    </tr>\n",
       "    <tr>\n",
       "      <td>3</td>\n",
       "      <td>Middle</td>\n",
       "      <td>Male</td>\n",
       "      <td>Own</td>\n",
       "      <td>Married</td>\n",
       "      <td>Close</td>\n",
       "      <td>85600</td>\n",
       "      <td>1</td>\n",
       "      <td>High</td>\n",
       "      <td>18</td>\n",
       "      <td>2436</td>\n",
       "      <td>7.798113</td>\n",
       "    </tr>\n",
       "    <tr>\n",
       "      <td>4</td>\n",
       "      <td>Middle</td>\n",
       "      <td>Female</td>\n",
       "      <td>Own</td>\n",
       "      <td>Single</td>\n",
       "      <td>Close</td>\n",
       "      <td>68400</td>\n",
       "      <td>0</td>\n",
       "      <td>High</td>\n",
       "      <td>12</td>\n",
       "      <td>1304</td>\n",
       "      <td>7.173192</td>\n",
       "    </tr>\n",
       "  </tbody>\n",
       "</table>\n",
       "</div>"
      ],
      "text/plain": [
       "      Age  Gender OwnHome  Married Location  Salary  Children History  \\\n",
       "0     Old  Female     Own   Single      Far   47500         0    High   \n",
       "1  Middle    Male    Rent   Single    Close   63600         0    High   \n",
       "2   Young  Female    Rent   Single    Close   13500         0     Low   \n",
       "3  Middle    Male     Own  Married    Close   85600         1    High   \n",
       "4  Middle  Female     Own   Single    Close   68400         0    High   \n",
       "\n",
       "   Catalogs  AmountSpent  AmtSpent_t  \n",
       "0         6          755    6.626718  \n",
       "1         6         1318    7.183871  \n",
       "2        18          296    5.690359  \n",
       "3        18         2436    7.798113  \n",
       "4        12         1304    7.173192  "
      ]
     },
     "execution_count": 281,
     "metadata": {},
     "output_type": "execute_result"
    }
   ],
   "source": [
    "# Transform the variable AmountSpent\n",
    "dm['AmtSpent_t'] = np.log(dm['AmountSpent'])\n",
    "dm.head()"
   ]
  },
  {
   "cell_type": "code",
   "execution_count": 282,
   "metadata": {},
   "outputs": [
    {
     "data": {
      "image/png": "[encoded data removed]",
      "text/plain": [
       "<Figure size 432x288 with 1 Axes>"
      ]
     },
     "metadata": {
      "needs_background": "light"
     },
     "output_type": "display_data"
    }
   ],
   "source": [
    "# Create a histogram for AmtSpent_t (log of AmountSpent)\n",
    "\n",
    "plt.hist(dm['AmtSpent_t'],\n",
    "         bins = 25,\n",
    "         alpha=0.5, \n",
    "         rwidth=0.95,\n",
    "         color='#99e6e6')\n",
    "\n",
    "plt.grid(axis='y', alpha=0.75)\n",
    "plt.xlabel('AmtSpent_t')\n",
    "plt.ylabel('Frequency')\n",
    "plt.title('Direct Marketing Distribution of AmountSpent Transformed')\n",
    "\n",
    "#plt.legend(loc = 'upper left')\n",
    "\n",
    "plt.show()"
   ]
  },
  {
   "cell_type": "markdown",
   "metadata": {},
   "source": [
    "#### Salary"
   ]
  },
  {
   "cell_type": "code",
   "execution_count": 283,
   "metadata": {},
   "outputs": [
    {
     "name": "stdout",
     "output_type": "stream",
     "text": [
      "(array([], dtype=int64),)\n"
     ]
    }
   ],
   "source": [
    "# Check if Salary has any negative numbers even though it would be illogical\n",
    "neg_chk = np.where(dm['Salary']<0)\n",
    "print(neg_chk)"
   ]
  },
  {
   "cell_type": "code",
   "execution_count": 284,
   "metadata": {},
   "outputs": [
    {
     "data": {
      "text/plain": [
       "dtype('int64')"
      ]
     },
     "execution_count": 284,
     "metadata": {},
     "output_type": "execute_result"
    }
   ],
   "source": [
    "# Check data type\n",
    "dm['Salary'].dtypes"
   ]
  },
  {
   "cell_type": "code",
   "execution_count": 285,
   "metadata": {},
   "outputs": [
    {
     "data": {
      "text/plain": [
       "0"
      ]
     },
     "execution_count": 285,
     "metadata": {},
     "output_type": "execute_result"
    }
   ],
   "source": [
    "# Check if any fields are null\n",
    "dm['Salary'].isnull().sum(axis=0)"
   ]
  },
  {
   "cell_type": "code",
   "execution_count": 286,
   "metadata": {},
   "outputs": [
    {
     "data": {
      "text/html": [
       "<div>\n",
       "<style scoped>\n",
       "    .dataframe tbody tr th:only-of-type {\n",
       "        vertical-align: middle;\n",
       "    }\n",
       "\n",
       "    .dataframe tbody tr th {\n",
       "        vertical-align: top;\n",
       "    }\n",
       "\n",
       "    .dataframe thead th {\n",
       "        text-align: right;\n",
       "    }\n",
       "</style>\n",
       "<table border=\"1\" class=\"dataframe\">\n",
       "  <thead>\n",
       "    <tr style=\"text-align: right;\">\n",
       "      <th></th>\n",
       "      <th>Age</th>\n",
       "      <th>Gender</th>\n",
       "      <th>OwnHome</th>\n",
       "      <th>Married</th>\n",
       "      <th>Location</th>\n",
       "      <th>Salary</th>\n",
       "      <th>Children</th>\n",
       "      <th>History</th>\n",
       "      <th>Catalogs</th>\n",
       "      <th>AmountSpent</th>\n",
       "      <th>AmtSpent_t</th>\n",
       "      <th>Salary_t</th>\n",
       "    </tr>\n",
       "  </thead>\n",
       "  <tbody>\n",
       "    <tr>\n",
       "      <td>0</td>\n",
       "      <td>Old</td>\n",
       "      <td>Female</td>\n",
       "      <td>Own</td>\n",
       "      <td>Single</td>\n",
       "      <td>Far</td>\n",
       "      <td>47500</td>\n",
       "      <td>0</td>\n",
       "      <td>High</td>\n",
       "      <td>6</td>\n",
       "      <td>755</td>\n",
       "      <td>6.626718</td>\n",
       "      <td>217.944947</td>\n",
       "    </tr>\n",
       "    <tr>\n",
       "      <td>1</td>\n",
       "      <td>Middle</td>\n",
       "      <td>Male</td>\n",
       "      <td>Rent</td>\n",
       "      <td>Single</td>\n",
       "      <td>Close</td>\n",
       "      <td>63600</td>\n",
       "      <td>0</td>\n",
       "      <td>High</td>\n",
       "      <td>6</td>\n",
       "      <td>1318</td>\n",
       "      <td>7.183871</td>\n",
       "      <td>252.190404</td>\n",
       "    </tr>\n",
       "    <tr>\n",
       "      <td>2</td>\n",
       "      <td>Young</td>\n",
       "      <td>Female</td>\n",
       "      <td>Rent</td>\n",
       "      <td>Single</td>\n",
       "      <td>Close</td>\n",
       "      <td>13500</td>\n",
       "      <td>0</td>\n",
       "      <td>Low</td>\n",
       "      <td>18</td>\n",
       "      <td>296</td>\n",
       "      <td>5.690359</td>\n",
       "      <td>116.189500</td>\n",
       "    </tr>\n",
       "    <tr>\n",
       "      <td>3</td>\n",
       "      <td>Middle</td>\n",
       "      <td>Male</td>\n",
       "      <td>Own</td>\n",
       "      <td>Married</td>\n",
       "      <td>Close</td>\n",
       "      <td>85600</td>\n",
       "      <td>1</td>\n",
       "      <td>High</td>\n",
       "      <td>18</td>\n",
       "      <td>2436</td>\n",
       "      <td>7.798113</td>\n",
       "      <td>292.574777</td>\n",
       "    </tr>\n",
       "    <tr>\n",
       "      <td>4</td>\n",
       "      <td>Middle</td>\n",
       "      <td>Female</td>\n",
       "      <td>Own</td>\n",
       "      <td>Single</td>\n",
       "      <td>Close</td>\n",
       "      <td>68400</td>\n",
       "      <td>0</td>\n",
       "      <td>High</td>\n",
       "      <td>12</td>\n",
       "      <td>1304</td>\n",
       "      <td>7.173192</td>\n",
       "      <td>261.533937</td>\n",
       "    </tr>\n",
       "  </tbody>\n",
       "</table>\n",
       "</div>"
      ],
      "text/plain": [
       "      Age  Gender OwnHome  Married Location  Salary  Children History  \\\n",
       "0     Old  Female     Own   Single      Far   47500         0    High   \n",
       "1  Middle    Male    Rent   Single    Close   63600         0    High   \n",
       "2   Young  Female    Rent   Single    Close   13500         0     Low   \n",
       "3  Middle    Male     Own  Married    Close   85600         1    High   \n",
       "4  Middle  Female     Own   Single    Close   68400         0    High   \n",
       "\n",
       "   Catalogs  AmountSpent  AmtSpent_t    Salary_t  \n",
       "0         6          755    6.626718  217.944947  \n",
       "1         6         1318    7.183871  252.190404  \n",
       "2        18          296    5.690359  116.189500  \n",
       "3        18         2436    7.798113  292.574777  \n",
       "4        12         1304    7.173192  261.533937  "
      ]
     },
     "execution_count": 286,
     "metadata": {},
     "output_type": "execute_result"
    }
   ],
   "source": [
    "# Transform the variable Salary\n",
    "#dm['Salary_t'] = np.log(dm['Salary'])**2\n",
    "dm['Salary_t'] = np.sqrt(dm['Salary'])\n",
    "dm.head()"
   ]
  },
  {
   "cell_type": "code",
   "execution_count": 287,
   "metadata": {},
   "outputs": [
    {
     "data": {
      "image/png": "[encoded data removed]",
      "text/plain": [
       "<Figure size 432x288 with 1 Axes>"
      ]
     },
     "metadata": {
      "needs_background": "light"
     },
     "output_type": "display_data"
    }
   ],
   "source": [
    "# Create a histogram for Salary_t (square root of Salary)\n",
    "\n",
    "plt.hist(dm['Salary_t'],\n",
    "         bins = 25,\n",
    "         alpha=0.5, \n",
    "         rwidth=0.95,\n",
    "         color='#4da6ff')\n",
    "\n",
    "plt.grid(axis='y', alpha=0.75)\n",
    "plt.xlabel('Salary_t')\n",
    "plt.ylabel('Frequency')\n",
    "plt.title('Direct Marketing Distribution of Salary Transformed')\n",
    "\n",
    "#plt.legend(loc = 'upper left')\n",
    "\n",
    "plt.show()"
   ]
  },
  {
   "cell_type": "markdown",
   "metadata": {},
   "source": [
    "#### Standardize Variables and Create Dummy Variables"
   ]
  },
  {
   "cell_type": "code",
   "execution_count": 288,
   "metadata": {},
   "outputs": [
    {
     "data": {
      "text/html": [
       "<div>\n",
       "<style scoped>\n",
       "    .dataframe tbody tr th:only-of-type {\n",
       "        vertical-align: middle;\n",
       "    }\n",
       "\n",
       "    .dataframe tbody tr th {\n",
       "        vertical-align: top;\n",
       "    }\n",
       "\n",
       "    .dataframe thead th {\n",
       "        text-align: right;\n",
       "    }\n",
       "</style>\n",
       "<table border=\"1\" class=\"dataframe\">\n",
       "  <thead>\n",
       "    <tr style=\"text-align: right;\">\n",
       "      <th></th>\n",
       "      <th>Age</th>\n",
       "      <th>Gender</th>\n",
       "      <th>OwnHome</th>\n",
       "      <th>Married</th>\n",
       "      <th>Location</th>\n",
       "      <th>Salary</th>\n",
       "      <th>Children</th>\n",
       "      <th>History</th>\n",
       "      <th>Catalogs</th>\n",
       "      <th>AmountSpent</th>\n",
       "      <th>AmtSpent_t</th>\n",
       "      <th>Salary_t</th>\n",
       "      <th>AmtSpent_t_s</th>\n",
       "    </tr>\n",
       "  </thead>\n",
       "  <tbody>\n",
       "    <tr>\n",
       "      <td>0</td>\n",
       "      <td>Old</td>\n",
       "      <td>Female</td>\n",
       "      <td>Own</td>\n",
       "      <td>Single</td>\n",
       "      <td>Far</td>\n",
       "      <td>47500</td>\n",
       "      <td>0</td>\n",
       "      <td>High</td>\n",
       "      <td>6</td>\n",
       "      <td>755</td>\n",
       "      <td>6.626718</td>\n",
       "      <td>217.944947</td>\n",
       "      <td>-0.166236</td>\n",
       "    </tr>\n",
       "    <tr>\n",
       "      <td>1</td>\n",
       "      <td>Middle</td>\n",
       "      <td>Male</td>\n",
       "      <td>Rent</td>\n",
       "      <td>Single</td>\n",
       "      <td>Close</td>\n",
       "      <td>63600</td>\n",
       "      <td>0</td>\n",
       "      <td>High</td>\n",
       "      <td>6</td>\n",
       "      <td>1318</td>\n",
       "      <td>7.183871</td>\n",
       "      <td>252.190404</td>\n",
       "      <td>0.470476</td>\n",
       "    </tr>\n",
       "    <tr>\n",
       "      <td>2</td>\n",
       "      <td>Young</td>\n",
       "      <td>Female</td>\n",
       "      <td>Rent</td>\n",
       "      <td>Single</td>\n",
       "      <td>Close</td>\n",
       "      <td>13500</td>\n",
       "      <td>0</td>\n",
       "      <td>Low</td>\n",
       "      <td>18</td>\n",
       "      <td>296</td>\n",
       "      <td>5.690359</td>\n",
       "      <td>116.189500</td>\n",
       "      <td>-1.236301</td>\n",
       "    </tr>\n",
       "    <tr>\n",
       "      <td>3</td>\n",
       "      <td>Middle</td>\n",
       "      <td>Male</td>\n",
       "      <td>Own</td>\n",
       "      <td>Married</td>\n",
       "      <td>Close</td>\n",
       "      <td>85600</td>\n",
       "      <td>1</td>\n",
       "      <td>High</td>\n",
       "      <td>18</td>\n",
       "      <td>2436</td>\n",
       "      <td>7.798113</td>\n",
       "      <td>292.574777</td>\n",
       "      <td>1.172428</td>\n",
       "    </tr>\n",
       "    <tr>\n",
       "      <td>4</td>\n",
       "      <td>Middle</td>\n",
       "      <td>Female</td>\n",
       "      <td>Own</td>\n",
       "      <td>Single</td>\n",
       "      <td>Close</td>\n",
       "      <td>68400</td>\n",
       "      <td>0</td>\n",
       "      <td>High</td>\n",
       "      <td>12</td>\n",
       "      <td>1304</td>\n",
       "      <td>7.173192</td>\n",
       "      <td>261.533937</td>\n",
       "      <td>0.458272</td>\n",
       "    </tr>\n",
       "  </tbody>\n",
       "</table>\n",
       "</div>"
      ],
      "text/plain": [
       "      Age  Gender OwnHome  Married Location  Salary  Children History  \\\n",
       "0     Old  Female     Own   Single      Far   47500         0    High   \n",
       "1  Middle    Male    Rent   Single    Close   63600         0    High   \n",
       "2   Young  Female    Rent   Single    Close   13500         0     Low   \n",
       "3  Middle    Male     Own  Married    Close   85600         1    High   \n",
       "4  Middle  Female     Own   Single    Close   68400         0    High   \n",
       "\n",
       "   Catalogs  AmountSpent  AmtSpent_t    Salary_t  AmtSpent_t_s  \n",
       "0         6          755    6.626718  217.944947     -0.166236  \n",
       "1         6         1318    7.183871  252.190404      0.470476  \n",
       "2        18          296    5.690359  116.189500     -1.236301  \n",
       "3        18         2436    7.798113  292.574777      1.172428  \n",
       "4        12         1304    7.173192  261.533937      0.458272  "
      ]
     },
     "execution_count": 288,
     "metadata": {},
     "output_type": "execute_result"
    }
   ],
   "source": [
    "# Standardize the variable AmtSpent_t\n",
    "dm['AmtSpent_t_s'] = preprocessing.scale(dm['AmtSpent_t'])\n",
    "dm.head()"
   ]
  },
  {
   "cell_type": "code",
   "execution_count": 289,
   "metadata": {},
   "outputs": [
    {
     "data": {
      "text/html": [
       "<div>\n",
       "<style scoped>\n",
       "    .dataframe tbody tr th:only-of-type {\n",
       "        vertical-align: middle;\n",
       "    }\n",
       "\n",
       "    .dataframe tbody tr th {\n",
       "        vertical-align: top;\n",
       "    }\n",
       "\n",
       "    .dataframe thead th {\n",
       "        text-align: right;\n",
       "    }\n",
       "</style>\n",
       "<table border=\"1\" class=\"dataframe\">\n",
       "  <thead>\n",
       "    <tr style=\"text-align: right;\">\n",
       "      <th></th>\n",
       "      <th>Age</th>\n",
       "      <th>Gender</th>\n",
       "      <th>OwnHome</th>\n",
       "      <th>Married</th>\n",
       "      <th>Location</th>\n",
       "      <th>Salary</th>\n",
       "      <th>Children</th>\n",
       "      <th>History</th>\n",
       "      <th>Catalogs</th>\n",
       "      <th>AmountSpent</th>\n",
       "      <th>AmtSpent_t</th>\n",
       "      <th>Salary_t</th>\n",
       "      <th>AmtSpent_t_s</th>\n",
       "      <th>Salary_t_s</th>\n",
       "    </tr>\n",
       "  </thead>\n",
       "  <tbody>\n",
       "    <tr>\n",
       "      <td>0</td>\n",
       "      <td>Old</td>\n",
       "      <td>Female</td>\n",
       "      <td>Own</td>\n",
       "      <td>Single</td>\n",
       "      <td>Far</td>\n",
       "      <td>47500</td>\n",
       "      <td>0</td>\n",
       "      <td>High</td>\n",
       "      <td>6</td>\n",
       "      <td>755</td>\n",
       "      <td>6.626718</td>\n",
       "      <td>217.944947</td>\n",
       "      <td>-0.166236</td>\n",
       "      <td>-0.135710</td>\n",
       "    </tr>\n",
       "    <tr>\n",
       "      <td>1</td>\n",
       "      <td>Middle</td>\n",
       "      <td>Male</td>\n",
       "      <td>Rent</td>\n",
       "      <td>Single</td>\n",
       "      <td>Close</td>\n",
       "      <td>63600</td>\n",
       "      <td>0</td>\n",
       "      <td>High</td>\n",
       "      <td>6</td>\n",
       "      <td>1318</td>\n",
       "      <td>7.183871</td>\n",
       "      <td>252.190404</td>\n",
       "      <td>0.470476</td>\n",
       "      <td>0.372750</td>\n",
       "    </tr>\n",
       "    <tr>\n",
       "      <td>2</td>\n",
       "      <td>Young</td>\n",
       "      <td>Female</td>\n",
       "      <td>Rent</td>\n",
       "      <td>Single</td>\n",
       "      <td>Close</td>\n",
       "      <td>13500</td>\n",
       "      <td>0</td>\n",
       "      <td>Low</td>\n",
       "      <td>18</td>\n",
       "      <td>296</td>\n",
       "      <td>5.690359</td>\n",
       "      <td>116.189500</td>\n",
       "      <td>-1.236301</td>\n",
       "      <td>-1.646526</td>\n",
       "    </tr>\n",
       "    <tr>\n",
       "      <td>3</td>\n",
       "      <td>Middle</td>\n",
       "      <td>Male</td>\n",
       "      <td>Own</td>\n",
       "      <td>Married</td>\n",
       "      <td>Close</td>\n",
       "      <td>85600</td>\n",
       "      <td>1</td>\n",
       "      <td>High</td>\n",
       "      <td>18</td>\n",
       "      <td>2436</td>\n",
       "      <td>7.798113</td>\n",
       "      <td>292.574777</td>\n",
       "      <td>1.172428</td>\n",
       "      <td>0.972357</td>\n",
       "    </tr>\n",
       "    <tr>\n",
       "      <td>4</td>\n",
       "      <td>Middle</td>\n",
       "      <td>Female</td>\n",
       "      <td>Own</td>\n",
       "      <td>Single</td>\n",
       "      <td>Close</td>\n",
       "      <td>68400</td>\n",
       "      <td>0</td>\n",
       "      <td>High</td>\n",
       "      <td>12</td>\n",
       "      <td>1304</td>\n",
       "      <td>7.173192</td>\n",
       "      <td>261.533937</td>\n",
       "      <td>0.458272</td>\n",
       "      <td>0.511478</td>\n",
       "    </tr>\n",
       "  </tbody>\n",
       "</table>\n",
       "</div>"
      ],
      "text/plain": [
       "      Age  Gender OwnHome  Married Location  Salary  Children History  \\\n",
       "0     Old  Female     Own   Single      Far   47500         0    High   \n",
       "1  Middle    Male    Rent   Single    Close   63600         0    High   \n",
       "2   Young  Female    Rent   Single    Close   13500         0     Low   \n",
       "3  Middle    Male     Own  Married    Close   85600         1    High   \n",
       "4  Middle  Female     Own   Single    Close   68400         0    High   \n",
       "\n",
       "   Catalogs  AmountSpent  AmtSpent_t    Salary_t  AmtSpent_t_s  Salary_t_s  \n",
       "0         6          755    6.626718  217.944947     -0.166236   -0.135710  \n",
       "1         6         1318    7.183871  252.190404      0.470476    0.372750  \n",
       "2        18          296    5.690359  116.189500     -1.236301   -1.646526  \n",
       "3        18         2436    7.798113  292.574777      1.172428    0.972357  \n",
       "4        12         1304    7.173192  261.533937      0.458272    0.511478  "
      ]
     },
     "execution_count": 289,
     "metadata": {},
     "output_type": "execute_result"
    }
   ],
   "source": [
    "# Standardize the variable Salary_t\n",
    "dm['Salary_t_s'] = preprocessing.scale(dm['Salary_t'])\n",
    "dm.head()"
   ]
  },
  {
   "cell_type": "code",
   "execution_count": 290,
   "metadata": {},
   "outputs": [
    {
     "data": {
      "text/html": [
       "<div>\n",
       "<style scoped>\n",
       "    .dataframe tbody tr th:only-of-type {\n",
       "        vertical-align: middle;\n",
       "    }\n",
       "\n",
       "    .dataframe tbody tr th {\n",
       "        vertical-align: top;\n",
       "    }\n",
       "\n",
       "    .dataframe thead th {\n",
       "        text-align: right;\n",
       "    }\n",
       "</style>\n",
       "<table border=\"1\" class=\"dataframe\">\n",
       "  <thead>\n",
       "    <tr style=\"text-align: right;\">\n",
       "      <th></th>\n",
       "      <th>Salary</th>\n",
       "      <th>Children</th>\n",
       "      <th>Catalogs</th>\n",
       "      <th>AmountSpent</th>\n",
       "      <th>AmtSpent_t</th>\n",
       "      <th>Salary_t</th>\n",
       "      <th>AmtSpent_t_s</th>\n",
       "      <th>Salary_t_s</th>\n",
       "      <th>Age_Middle</th>\n",
       "      <th>Age_Old</th>\n",
       "      <th>Age_Young</th>\n",
       "      <th>Gender_Female</th>\n",
       "      <th>Gender_Male</th>\n",
       "      <th>OwnHome_Own</th>\n",
       "      <th>OwnHome_Rent</th>\n",
       "      <th>Married_Married</th>\n",
       "      <th>Married_Single</th>\n",
       "      <th>Location_Close</th>\n",
       "      <th>Location_Far</th>\n",
       "      <th>History_High</th>\n",
       "      <th>History_Low</th>\n",
       "      <th>History_Medium</th>\n",
       "    </tr>\n",
       "  </thead>\n",
       "  <tbody>\n",
       "    <tr>\n",
       "      <td>0</td>\n",
       "      <td>47500</td>\n",
       "      <td>0</td>\n",
       "      <td>6</td>\n",
       "      <td>755</td>\n",
       "      <td>6.626718</td>\n",
       "      <td>217.944947</td>\n",
       "      <td>-0.166236</td>\n",
       "      <td>-0.135710</td>\n",
       "      <td>0</td>\n",
       "      <td>1</td>\n",
       "      <td>0</td>\n",
       "      <td>1</td>\n",
       "      <td>0</td>\n",
       "      <td>1</td>\n",
       "      <td>0</td>\n",
       "      <td>0</td>\n",
       "      <td>1</td>\n",
       "      <td>0</td>\n",
       "      <td>1</td>\n",
       "      <td>1</td>\n",
       "      <td>0</td>\n",
       "      <td>0</td>\n",
       "    </tr>\n",
       "    <tr>\n",
       "      <td>1</td>\n",
       "      <td>63600</td>\n",
       "      <td>0</td>\n",
       "      <td>6</td>\n",
       "      <td>1318</td>\n",
       "      <td>7.183871</td>\n",
       "      <td>252.190404</td>\n",
       "      <td>0.470476</td>\n",
       "      <td>0.372750</td>\n",
       "      <td>1</td>\n",
       "      <td>0</td>\n",
       "      <td>0</td>\n",
       "      <td>0</td>\n",
       "      <td>1</td>\n",
       "      <td>0</td>\n",
       "      <td>1</td>\n",
       "      <td>0</td>\n",
       "      <td>1</td>\n",
       "      <td>1</td>\n",
       "      <td>0</td>\n",
       "      <td>1</td>\n",
       "      <td>0</td>\n",
       "      <td>0</td>\n",
       "    </tr>\n",
       "    <tr>\n",
       "      <td>2</td>\n",
       "      <td>13500</td>\n",
       "      <td>0</td>\n",
       "      <td>18</td>\n",
       "      <td>296</td>\n",
       "      <td>5.690359</td>\n",
       "      <td>116.189500</td>\n",
       "      <td>-1.236301</td>\n",
       "      <td>-1.646526</td>\n",
       "      <td>0</td>\n",
       "      <td>0</td>\n",
       "      <td>1</td>\n",
       "      <td>1</td>\n",
       "      <td>0</td>\n",
       "      <td>0</td>\n",
       "      <td>1</td>\n",
       "      <td>0</td>\n",
       "      <td>1</td>\n",
       "      <td>1</td>\n",
       "      <td>0</td>\n",
       "      <td>0</td>\n",
       "      <td>1</td>\n",
       "      <td>0</td>\n",
       "    </tr>\n",
       "    <tr>\n",
       "      <td>3</td>\n",
       "      <td>85600</td>\n",
       "      <td>1</td>\n",
       "      <td>18</td>\n",
       "      <td>2436</td>\n",
       "      <td>7.798113</td>\n",
       "      <td>292.574777</td>\n",
       "      <td>1.172428</td>\n",
       "      <td>0.972357</td>\n",
       "      <td>1</td>\n",
       "      <td>0</td>\n",
       "      <td>0</td>\n",
       "      <td>0</td>\n",
       "      <td>1</td>\n",
       "      <td>1</td>\n",
       "      <td>0</td>\n",
       "      <td>1</td>\n",
       "      <td>0</td>\n",
       "      <td>1</td>\n",
       "      <td>0</td>\n",
       "      <td>1</td>\n",
       "      <td>0</td>\n",
       "      <td>0</td>\n",
       "    </tr>\n",
       "    <tr>\n",
       "      <td>4</td>\n",
       "      <td>68400</td>\n",
       "      <td>0</td>\n",
       "      <td>12</td>\n",
       "      <td>1304</td>\n",
       "      <td>7.173192</td>\n",
       "      <td>261.533937</td>\n",
       "      <td>0.458272</td>\n",
       "      <td>0.511478</td>\n",
       "      <td>1</td>\n",
       "      <td>0</td>\n",
       "      <td>0</td>\n",
       "      <td>1</td>\n",
       "      <td>0</td>\n",
       "      <td>1</td>\n",
       "      <td>0</td>\n",
       "      <td>0</td>\n",
       "      <td>1</td>\n",
       "      <td>1</td>\n",
       "      <td>0</td>\n",
       "      <td>1</td>\n",
       "      <td>0</td>\n",
       "      <td>0</td>\n",
       "    </tr>\n",
       "  </tbody>\n",
       "</table>\n",
       "</div>"
      ],
      "text/plain": [
       "   Salary  Children  Catalogs  AmountSpent  AmtSpent_t    Salary_t  \\\n",
       "0   47500         0         6          755    6.626718  217.944947   \n",
       "1   63600         0         6         1318    7.183871  252.190404   \n",
       "2   13500         0        18          296    5.690359  116.189500   \n",
       "3   85600         1        18         2436    7.798113  292.574777   \n",
       "4   68400         0        12         1304    7.173192  261.533937   \n",
       "\n",
       "   AmtSpent_t_s  Salary_t_s  Age_Middle  Age_Old  Age_Young  Gender_Female  \\\n",
       "0     -0.166236   -0.135710           0        1          0              1   \n",
       "1      0.470476    0.372750           1        0          0              0   \n",
       "2     -1.236301   -1.646526           0        0          1              1   \n",
       "3      1.172428    0.972357           1        0          0              0   \n",
       "4      0.458272    0.511478           1        0          0              1   \n",
       "\n",
       "   Gender_Male  OwnHome_Own  OwnHome_Rent  Married_Married  Married_Single  \\\n",
       "0            0            1             0                0               1   \n",
       "1            1            0             1                0               1   \n",
       "2            0            0             1                0               1   \n",
       "3            1            1             0                1               0   \n",
       "4            0            1             0                0               1   \n",
       "\n",
       "   Location_Close  Location_Far  History_High  History_Low  History_Medium  \n",
       "0               0             1             1            0               0  \n",
       "1               1             0             1            0               0  \n",
       "2               1             0             0            1               0  \n",
       "3               1             0             1            0               0  \n",
       "4               1             0             1            0               0  "
      ]
     },
     "execution_count": 290,
     "metadata": {},
     "output_type": "execute_result"
    }
   ],
   "source": [
    "# Create dummy variables of categorical variables\n",
    "dm_cpy = dm.copy()\n",
    "dm_cpy = pd.get_dummies(dm_cpy, columns=['Age'])\n",
    "dm_cpy = pd.get_dummies(dm_cpy, columns=['Gender'])\n",
    "dm_cpy = pd.get_dummies(dm_cpy, columns=['OwnHome'])\n",
    "dm_cpy = pd.get_dummies(dm_cpy, columns=['Married'])\n",
    "dm_cpy = pd.get_dummies(dm_cpy, columns=['Location'])\n",
    "dm_cpy = pd.get_dummies(dm_cpy, columns=['History'])\n",
    "dm_cpy.head()"
   ]
  },
  {
   "cell_type": "markdown",
   "metadata": {},
   "source": [
    "### Question 3: Regularizing Regression Models"
   ]
  },
  {
   "cell_type": "code",
   "execution_count": 291,
   "metadata": {},
   "outputs": [],
   "source": [
    "# Split into training and test sets\n",
    "direct_market_vars = dm_cpy[['Age_Young', 'Age_Middle', 'Gender_Female', 'OwnHome_Own', 'Married_Married', 'Location_Close', 'Salary_t_s', 'History_Low', 'History_Medium', 'Catalogs']]\n",
    "target = dm_cpy[['AmtSpent_t_s']]\n",
    "x_train, x_test, y_train, y_test = train_test_split(direct_market_vars, \n",
    "                                                    target, \n",
    "                                                    test_size=0.2, \n",
    "                                                    random_state=1)"
   ]
  },
  {
   "cell_type": "markdown",
   "metadata": {},
   "source": [
    "#### Linear Regression (compare to regularizing models)"
   ]
  },
  {
   "cell_type": "code",
   "execution_count": 292,
   "metadata": {},
   "outputs": [],
   "source": [
    "# Create an ols regression object\n",
    "ols = linear_model.LinearRegression()"
   ]
  },
  {
   "cell_type": "code",
   "execution_count": 293,
   "metadata": {},
   "outputs": [],
   "source": [
    "# Train the model using our training data\n",
    "model = ols.fit(x_train, y_train)"
   ]
  },
  {
   "cell_type": "code",
   "execution_count": 294,
   "metadata": {},
   "outputs": [
    {
     "data": {
      "text/plain": [
       "(1, 10)"
      ]
     },
     "execution_count": 294,
     "metadata": {},
     "output_type": "execute_result"
    }
   ],
   "source": [
    "model.coef_.shape"
   ]
  },
  {
   "cell_type": "code",
   "execution_count": 295,
   "metadata": {},
   "outputs": [
    {
     "name": "stdout",
     "output_type": "stream",
     "text": [
      "Training set score: 0.83\n",
      "Test set score: 0.84\n"
     ]
    }
   ],
   "source": [
    "# Calculate the Coefficient of Determination, R^2 for the training data\n",
    "#print(r2_score(y_train, ridge_model_cv.predict(x_train)), r2_score(y_test, model.predict(x_test)))\n",
    "print(\"Training set score: {:.2f}\".format(model.score(x_train, y_train)))\n",
    "print(\"Test set score: {:.2f}\".format(model.score(x_test, y_test)))"
   ]
  },
  {
   "cell_type": "code",
   "execution_count": 296,
   "metadata": {},
   "outputs": [
    {
     "name": "stdout",
     "output_type": "stream",
     "text": [
      "[[-0.27123043 -0.20875265 -0.04373486  0.00499093 -0.04887465 -0.33858708\n",
      "   0.51696853 -0.8472527  -0.25835725  0.0446822 ]] [0.06388094]\n"
     ]
    }
   ],
   "source": [
    "# Print the model coefficients\n",
    "print(model.coef_, model.intercept_)"
   ]
  },
  {
   "cell_type": "code",
   "execution_count": 297,
   "metadata": {},
   "outputs": [
    {
     "data": {
      "text/plain": [
       "[array([0.33483086]),\n",
       " array([0.62078471]),\n",
       " array([0.63941501]),\n",
       " array([0.15364208]),\n",
       " array([0.9900342])]"
      ]
     },
     "execution_count": 297,
     "metadata": {},
     "output_type": "execute_result"
    }
   ],
   "source": [
    "# Run the model on x_test and show the first five results\n",
    "list(model.predict(x_test)[0:5])"
   ]
  },
  {
   "cell_type": "markdown",
   "metadata": {},
   "source": [
    "#### Ridge Regression"
   ]
  },
  {
   "cell_type": "code",
   "execution_count": 298,
   "metadata": {},
   "outputs": [],
   "source": [
    "ridge_cv = RidgeCV(alphas = [0.01, 0.1, 0.5, 1, 5, 10])"
   ]
  },
  {
   "cell_type": "code",
   "execution_count": 299,
   "metadata": {},
   "outputs": [],
   "source": [
    "# Fit the linear regression with ridge cross-validation\n",
    "ridge_model_cv = ridge_cv.fit(x_train, y_train)"
   ]
  },
  {
   "cell_type": "code",
   "execution_count": 300,
   "metadata": {},
   "outputs": [
    {
     "name": "stdout",
     "output_type": "stream",
     "text": [
      "[[-0.26726335 -0.20440756 -0.04414724  0.00719068 -0.04582682 -0.33749539\n",
      "   0.5159439  -0.83944988 -0.25421178  0.044779  ]] [0.05318086]\n"
     ]
    }
   ],
   "source": [
    "print(ridge_model_cv.coef_, ridge_model_cv.intercept_)"
   ]
  },
  {
   "cell_type": "code",
   "execution_count": 301,
   "metadata": {},
   "outputs": [
    {
     "name": "stdout",
     "output_type": "stream",
     "text": [
      "Training set score: 0.83\n",
      "Test set score: 0.84\n"
     ]
    }
   ],
   "source": [
    "#print(r2_score(y_train, ridge_model_cv.predict(x_train)), r2_score(y_test, ridge_model_cv.predict(x_test)))\n",
    "print(\"Training set score: {:.2f}\".format(ridge_model_cv.score(x_train, y_train)))\n",
    "print(\"Test set score: {:.2f}\".format(ridge_model_cv.score(x_test, y_test)))"
   ]
  },
  {
   "cell_type": "code",
   "execution_count": 302,
   "metadata": {},
   "outputs": [
    {
     "data": {
      "text/plain": [
       "[array([0.33128214]),\n",
       " array([0.61647622]),\n",
       " array([0.63705164]),\n",
       " array([0.15764993]),\n",
       " array([0.98530399])]"
      ]
     },
     "execution_count": 302,
     "metadata": {},
     "output_type": "execute_result"
    }
   ],
   "source": [
    "# Run the model on x_test and show the first five results\n",
    "list(ridge_model_cv.predict(x_test)[0:5])"
   ]
  },
  {
   "cell_type": "code",
   "execution_count": 303,
   "metadata": {},
   "outputs": [
    {
     "data": {
      "text/plain": [
       "1.0"
      ]
     },
     "execution_count": 303,
     "metadata": {},
     "output_type": "execute_result"
    }
   ],
   "source": [
    "# To find the best alpha: \n",
    "ridge_model_cv.alpha_"
   ]
  },
  {
   "cell_type": "code",
   "execution_count": 304,
   "metadata": {},
   "outputs": [],
   "source": [
    "# Fit linear regression with ridge\n",
    "ridge = Ridge(alpha = 1.0)"
   ]
  },
  {
   "cell_type": "code",
   "execution_count": 305,
   "metadata": {},
   "outputs": [],
   "source": [
    "# Fit the linear regression with ridge using best alpha found with ridge cross-validation\n",
    "ridge_model = ridge.fit(x_train, y_train)"
   ]
  },
  {
   "cell_type": "code",
   "execution_count": 306,
   "metadata": {},
   "outputs": [
    {
     "name": "stdout",
     "output_type": "stream",
     "text": [
      "[[-0.26726335 -0.20440756 -0.04414724  0.00719068 -0.04582682 -0.33749539\n",
      "   0.5159439  -0.83944988 -0.25421178  0.044779  ]] [0.05318086]\n"
     ]
    }
   ],
   "source": [
    "# Print coefficients\n",
    "print(ridge_model.coef_, ridge_model.intercept_)"
   ]
  },
  {
   "cell_type": "code",
   "execution_count": 307,
   "metadata": {},
   "outputs": [
    {
     "name": "stdout",
     "output_type": "stream",
     "text": [
      "Training set score: 0.83\n",
      "Test set score: 0.84\n"
     ]
    }
   ],
   "source": [
    "# Print R^2 for model on both train and test\n",
    "#print(r2_score(y_train, ridge_model.predict(x_train)), r2_score(y_test, ridge_model.predict(x_test)))\n",
    "print(\"Training set score: {:.2f}\".format(ridge_model.score(x_train, y_train)))\n",
    "print(\"Test set score: {:.2f}\".format(ridge_model.score(x_test, y_test)))"
   ]
  },
  {
   "cell_type": "code",
   "execution_count": 308,
   "metadata": {},
   "outputs": [
    {
     "data": {
      "text/plain": [
       "[array([0.33128214]),\n",
       " array([0.61647622]),\n",
       " array([0.63705164]),\n",
       " array([0.15764993]),\n",
       " array([0.98530399])]"
      ]
     },
     "execution_count": 308,
     "metadata": {},
     "output_type": "execute_result"
    }
   ],
   "source": [
    "# Run the model on x_test and show the first five results\n",
    "list(ridge_model.predict(x_test)[0:5])"
   ]
  },
  {
   "cell_type": "markdown",
   "metadata": {},
   "source": [
    "#### Lasso Regression"
   ]
  },
  {
   "cell_type": "code",
   "execution_count": 309,
   "metadata": {},
   "outputs": [],
   "source": [
    "lasso_cv = LassoCV(alphas = [0.01, 0.1, 0.5, 1, 5, 10])"
   ]
  },
  {
   "cell_type": "code",
   "execution_count": 310,
   "metadata": {},
   "outputs": [],
   "source": [
    "# Fit the linear regression\n",
    "lasso_model_cv = lasso_cv.fit(x_train, y_train)"
   ]
  },
  {
   "cell_type": "code",
   "execution_count": 311,
   "metadata": {},
   "outputs": [
    {
     "data": {
      "text/plain": [
       "LassoCV(alphas=[0.01, 0.1, 0.5, 1, 5, 10], copy_X=True, cv='warn', eps=0.001,\n",
       "        fit_intercept=True, max_iter=1000, n_alphas=100, n_jobs=None,\n",
       "        normalize=False, positive=False, precompute='auto', random_state=None,\n",
       "        selection='cyclic', tol=0.0001, verbose=False)"
      ]
     },
     "execution_count": 311,
     "metadata": {},
     "output_type": "execute_result"
    }
   ],
   "source": [
    "lasso_model_cv"
   ]
  },
  {
   "cell_type": "code",
   "execution_count": 312,
   "metadata": {},
   "outputs": [
    {
     "name": "stdout",
     "output_type": "stream",
     "text": [
      "[-0.1399656  -0.07729944 -0.          0.         -0.         -0.30067768\n",
      "  0.50828865 -0.77929359 -0.17906626  0.04616718] -0.16574064465171803\n"
     ]
    }
   ],
   "source": [
    "# Print coefficients\n",
    "print(lasso_model_cv.coef_, lasso_model_cv.intercept_)"
   ]
  },
  {
   "cell_type": "code",
   "execution_count": 313,
   "metadata": {},
   "outputs": [
    {
     "name": "stdout",
     "output_type": "stream",
     "text": [
      "Training set score: 0.82\n",
      "Test set score: 0.84\n"
     ]
    }
   ],
   "source": [
    "# Print R^2 for lasso_model_cv on both train and test\n",
    "#print(r2_score(y_train, lasso_model_cv.predict(x_train)), r2_score(y_test, lasso_model_cv.predict(x_test)))\n",
    "print(\"Training set score: {:.2f}\".format(lasso_model_cv.score(x_train, y_train)))\n",
    "print(\"Test set score: {:.2f}\".format(lasso_model_cv.score(x_test, y_test)))"
   ]
  },
  {
   "cell_type": "code",
   "execution_count": 314,
   "metadata": {},
   "outputs": [
    {
     "data": {
      "text/plain": [
       "[0.30106618399173257,\n",
       " 0.6142266921052173,\n",
       " 0.563404708311096,\n",
       " 0.30233846345066606,\n",
       " 0.8470562154433146]"
      ]
     },
     "execution_count": 314,
     "metadata": {},
     "output_type": "execute_result"
    }
   ],
   "source": [
    "# Run the model on x_test and show the first five results\n",
    "list(lasso_model_cv.predict(x_test)[0:5])"
   ]
  },
  {
   "cell_type": "code",
   "execution_count": 315,
   "metadata": {},
   "outputs": [
    {
     "data": {
      "text/plain": [
       "0.01"
      ]
     },
     "execution_count": 315,
     "metadata": {},
     "output_type": "execute_result"
    }
   ],
   "source": [
    "# To find the best alpha: \n",
    "lasso_model_cv.alpha_"
   ]
  },
  {
   "cell_type": "code",
   "execution_count": 316,
   "metadata": {},
   "outputs": [],
   "source": [
    "# Create lasso regression with best alpha value found with cross-validation\n",
    "lasso = Lasso(alpha=0.01)"
   ]
  },
  {
   "cell_type": "code",
   "execution_count": 317,
   "metadata": {},
   "outputs": [],
   "source": [
    "# Fit the linear regression\n",
    "lasso_model = lasso.fit(x_train, y_train)"
   ]
  },
  {
   "cell_type": "code",
   "execution_count": 318,
   "metadata": {},
   "outputs": [
    {
     "data": {
      "text/plain": [
       "Lasso(alpha=0.01, copy_X=True, fit_intercept=True, max_iter=1000,\n",
       "      normalize=False, positive=False, precompute=False, random_state=None,\n",
       "      selection='cyclic', tol=0.0001, warm_start=False)"
      ]
     },
     "execution_count": 318,
     "metadata": {},
     "output_type": "execute_result"
    }
   ],
   "source": [
    "lasso_model"
   ]
  },
  {
   "cell_type": "code",
   "execution_count": 319,
   "metadata": {},
   "outputs": [
    {
     "name": "stdout",
     "output_type": "stream",
     "text": [
      "[-0.1399656  -0.07729944 -0.          0.         -0.         -0.30067768\n",
      "  0.50828865 -0.77929359 -0.17906626  0.04616718] [-0.16574064]\n"
     ]
    }
   ],
   "source": [
    "# Print coefficients\n",
    "print(lasso_model.coef_, lasso_model.intercept_)"
   ]
  },
  {
   "cell_type": "code",
   "execution_count": 320,
   "metadata": {},
   "outputs": [
    {
     "name": "stdout",
     "output_type": "stream",
     "text": [
      "Training set score: 0.82\n",
      "Test set score: 0.84\n"
     ]
    }
   ],
   "source": [
    "# Print R^2 for model on both train and test\n",
    "#print(r2_score(y_train, lasso_model.predict(x_train)), r2_score(y_test, lasso_model.predict(x_test)))\n",
    "print(\"Training set score: {:.2f}\".format(lasso_model.score(x_train, y_train)))\n",
    "print(\"Test set score: {:.2f}\".format(lasso_model.score(x_test, y_test)))"
   ]
  },
  {
   "cell_type": "code",
   "execution_count": 321,
   "metadata": {},
   "outputs": [
    {
     "data": {
      "text/plain": [
       "[0.30106618399173257,\n",
       " 0.6142266921052173,\n",
       " 0.563404708311096,\n",
       " 0.30233846345066606,\n",
       " 0.8470562154433146]"
      ]
     },
     "execution_count": 321,
     "metadata": {},
     "output_type": "execute_result"
    }
   ],
   "source": [
    "# Run the model on x_test and show the first five results\n",
    "list(lasso_model.predict(x_test)[0:5])"
   ]
  },
  {
   "cell_type": "markdown",
   "metadata": {},
   "source": [
    "### Question 4: Residuals Plot\n",
    "The residual plot shows no discernable pattern, which indicates a linear relationship between the predictors and the response. Aside from a few extreme points on the left, the plot also shows constant variance among the residuals."
   ]
  },
  {
   "cell_type": "code",
   "execution_count": 322,
   "metadata": {},
   "outputs": [],
   "source": [
    "y_test_plot = y_test\n",
    "y_test_plot['preds'] = model.predict(x_test)\n",
    "y_test_plot['residuals'] = y_test_plot['AmtSpent_t_s'] - y_test_plot['preds']"
   ]
  },
  {
   "cell_type": "code",
   "execution_count": 323,
   "metadata": {},
   "outputs": [
    {
     "data": {
      "text/plain": [
       "<seaborn.axisgrid.FacetGrid at 0x1c2568ed10>"
      ]
     },
     "execution_count": 323,
     "metadata": {},
     "output_type": "execute_result"
    },
    {
     "data": {
      "image/png": "[encoded data removed]",
      "text/plain": [
       "<Figure size 360x360 with 1 Axes>"
      ]
     },
     "metadata": {
      "needs_background": "light"
     },
     "output_type": "display_data"
    }
   ],
   "source": [
    "# Create a residual plot\n",
    "sns.lmplot('preds', 'residuals', data=y_test_plot, fit_reg=False)"
   ]
  },
  {
   "cell_type": "code",
   "execution_count": 324,
   "metadata": {},
   "outputs": [
    {
     "data": {
      "text/plain": [
       "<seaborn.axisgrid.FacetGrid at 0x1c260ab7d0>"
      ]
     },
     "execution_count": 324,
     "metadata": {},
     "output_type": "execute_result"
    },
    {
     "data": {
      "image/png": "[encoded data removed]",
      "text/plain": [
       "<Figure size 360x360 with 1 Axes>"
      ]
     },
     "metadata": {
      "needs_background": "light"
     },
     "output_type": "display_data"
    }
   ],
   "source": [
    "# Create a scatter plot of the actual response against the predicted values\n",
    "sns.lmplot('preds', 'AmtSpent_t_s', data=y_test_plot, fit_reg=False)"
   ]
  },
  {
   "cell_type": "markdown",
   "metadata": {},
   "source": [
    "# Part II: Classification"
   ]
  },
  {
   "cell_type": "code",
   "execution_count": 1,
   "metadata": {},
   "outputs": [],
   "source": [
    "import warnings;\n",
    "warnings.filterwarnings('ignore');"
   ]
  },
  {
   "cell_type": "code",
   "execution_count": 2,
   "metadata": {},
   "outputs": [],
   "source": [
    "# Import libraries\n",
    "import csv\n",
    "import pandas as pd\n",
    "from sklearn import preprocessing\n",
    "import numpy as np\n",
    "from sklearn.model_selection import train_test_split\n",
    "import statsmodels.api as sm\n",
    "from sklearn.linear_model import LogisticRegressionCV\n",
    "from sklearn import datasets\n",
    "from sklearn.preprocessing import StandardScaler\n",
    "from sklearn import metrics\n",
    "import datetime as dt\n",
    "import matplotlib\n",
    "import matplotlib.pyplot as plt\n",
    "from sklearn.metrics import confusion_matrix, roc_curve, roc_auc_score\n",
    "from sklearn import neighbors\n",
    "from sklearn.preprocessing import StandardScaler\n",
    "from sklearn.pipeline import Pipeline, FeatureUnion\n",
    "from sklearn.model_selection import GridSearchCV\n",
    "from sklearn.neighbors import KNeighborsClassifier"
   ]
  },
  {
   "cell_type": "code",
   "execution_count": 3,
   "metadata": {},
   "outputs": [],
   "source": [
    "header = ['recnum', 'schedtime', 'carrier', 'deptime', 'dest', 'distance', 'date', 'flightnumber', 'origin', 'weather', 'dayweek', 'daymonth', 'tailnu', 'delay']\n",
    "\n",
    "# open a new CSV file and write the header fields\n",
    "# open the text file and write the contents to the new CSV file\n",
    "with open('/Users/lisaover/Google Drive/_MLIS/Data Mining/Homework/flight_delays.csv', 'wt', newline ='') as file:\n",
    "    writer = csv.writer(file, delimiter=',')\n",
    "    writer.writerow(i for i in header)\n",
    "    with open('/Users/lisaover/Google Drive/_MLIS/Data Mining/Homework/flight_delays.txt') as csv_file:\n",
    "        csv_reader = csv.reader(csv_file, delimiter=',')\n",
    "        line_cnt = 0\n",
    "        for row in csv_reader:\n",
    "            if line_cnt > 0:\n",
    "                writer.writerow(row)\n",
    "            line_cnt += 1\n",
    "file.close()\n",
    "\n",
    "# Load the new CSV file into a dataframe\n",
    "fd = pd.read_csv(\"/Users/lisaover/Google Drive/_MLIS/Data Mining/Homework/flight_delays.csv\")"
   ]
  },
  {
   "cell_type": "code",
   "execution_count": 4,
   "metadata": {},
   "outputs": [
    {
     "data": {
      "text/html": [
       "<div>\n",
       "<style scoped>\n",
       "    .dataframe tbody tr th:only-of-type {\n",
       "        vertical-align: middle;\n",
       "    }\n",
       "\n",
       "    .dataframe tbody tr th {\n",
       "        vertical-align: top;\n",
       "    }\n",
       "\n",
       "    .dataframe thead th {\n",
       "        text-align: right;\n",
       "    }\n",
       "</style>\n",
       "<table border=\"1\" class=\"dataframe\">\n",
       "  <thead>\n",
       "    <tr style=\"text-align: right;\">\n",
       "      <th></th>\n",
       "      <th>recnum</th>\n",
       "      <th>schedtime</th>\n",
       "      <th>carrier</th>\n",
       "      <th>deptime</th>\n",
       "      <th>dest</th>\n",
       "      <th>distance</th>\n",
       "      <th>date</th>\n",
       "      <th>flightnumber</th>\n",
       "      <th>origin</th>\n",
       "      <th>weather</th>\n",
       "      <th>dayweek</th>\n",
       "      <th>daymonth</th>\n",
       "      <th>tailnu</th>\n",
       "      <th>delay</th>\n",
       "    </tr>\n",
       "  </thead>\n",
       "  <tbody>\n",
       "    <tr>\n",
       "      <td>0</td>\n",
       "      <td>1</td>\n",
       "      <td>1455</td>\n",
       "      <td>OH</td>\n",
       "      <td>1455</td>\n",
       "      <td>JFK</td>\n",
       "      <td>184</td>\n",
       "      <td>1/1/2004</td>\n",
       "      <td>5935</td>\n",
       "      <td>BWI</td>\n",
       "      <td>0</td>\n",
       "      <td>4</td>\n",
       "      <td>1</td>\n",
       "      <td>N940CA</td>\n",
       "      <td>ontime</td>\n",
       "    </tr>\n",
       "    <tr>\n",
       "      <td>1</td>\n",
       "      <td>2</td>\n",
       "      <td>1640</td>\n",
       "      <td>DH</td>\n",
       "      <td>1640</td>\n",
       "      <td>JFK</td>\n",
       "      <td>213</td>\n",
       "      <td>1/1/2004</td>\n",
       "      <td>6155</td>\n",
       "      <td>DCA</td>\n",
       "      <td>0</td>\n",
       "      <td>4</td>\n",
       "      <td>1</td>\n",
       "      <td>N405FJ</td>\n",
       "      <td>ontime</td>\n",
       "    </tr>\n",
       "    <tr>\n",
       "      <td>2</td>\n",
       "      <td>3</td>\n",
       "      <td>1245</td>\n",
       "      <td>DH</td>\n",
       "      <td>1245</td>\n",
       "      <td>LGA</td>\n",
       "      <td>229</td>\n",
       "      <td>1/1/2004</td>\n",
       "      <td>7208</td>\n",
       "      <td>IAD</td>\n",
       "      <td>0</td>\n",
       "      <td>4</td>\n",
       "      <td>1</td>\n",
       "      <td>N695BR</td>\n",
       "      <td>ontime</td>\n",
       "    </tr>\n",
       "    <tr>\n",
       "      <td>3</td>\n",
       "      <td>4</td>\n",
       "      <td>1715</td>\n",
       "      <td>DH</td>\n",
       "      <td>1709</td>\n",
       "      <td>LGA</td>\n",
       "      <td>229</td>\n",
       "      <td>1/1/2004</td>\n",
       "      <td>7215</td>\n",
       "      <td>IAD</td>\n",
       "      <td>0</td>\n",
       "      <td>4</td>\n",
       "      <td>1</td>\n",
       "      <td>N662BR</td>\n",
       "      <td>ontime</td>\n",
       "    </tr>\n",
       "    <tr>\n",
       "      <td>4</td>\n",
       "      <td>5</td>\n",
       "      <td>1039</td>\n",
       "      <td>DH</td>\n",
       "      <td>1035</td>\n",
       "      <td>LGA</td>\n",
       "      <td>229</td>\n",
       "      <td>1/1/2004</td>\n",
       "      <td>7792</td>\n",
       "      <td>IAD</td>\n",
       "      <td>0</td>\n",
       "      <td>4</td>\n",
       "      <td>1</td>\n",
       "      <td>N698BR</td>\n",
       "      <td>ontime</td>\n",
       "    </tr>\n",
       "  </tbody>\n",
       "</table>\n",
       "</div>"
      ],
      "text/plain": [
       "   recnum  schedtime carrier  deptime dest  distance      date  flightnumber  \\\n",
       "0       1       1455      OH     1455  JFK       184  1/1/2004          5935   \n",
       "1       2       1640      DH     1640  JFK       213  1/1/2004          6155   \n",
       "2       3       1245      DH     1245  LGA       229  1/1/2004          7208   \n",
       "3       4       1715      DH     1709  LGA       229  1/1/2004          7215   \n",
       "4       5       1039      DH     1035  LGA       229  1/1/2004          7792   \n",
       "\n",
       "  origin  weather  dayweek  daymonth  tailnu   delay  \n",
       "0    BWI        0        4         1  N940CA  ontime  \n",
       "1    DCA        0        4         1  N405FJ  ontime  \n",
       "2    IAD        0        4         1  N695BR  ontime  \n",
       "3    IAD        0        4         1  N662BR  ontime  \n",
       "4    IAD        0        4         1  N698BR  ontime  "
      ]
     },
     "execution_count": 4,
     "metadata": {},
     "output_type": "execute_result"
    }
   ],
   "source": [
    "fd.head()"
   ]
  },
  {
   "cell_type": "code",
   "execution_count": 5,
   "metadata": {},
   "outputs": [
    {
     "data": {
      "text/plain": [
       "array(['ontime', 'delayed'], dtype=object)"
      ]
     },
     "execution_count": 5,
     "metadata": {},
     "output_type": "execute_result"
    }
   ],
   "source": [
    "fd.delay.unique()"
   ]
  },
  {
   "cell_type": "code",
   "execution_count": 6,
   "metadata": {},
   "outputs": [
    {
     "data": {
      "text/plain": [
       "(2201, 14)"
      ]
     },
     "execution_count": 6,
     "metadata": {},
     "output_type": "execute_result"
    }
   ],
   "source": [
    "#Check dataframe shape\n",
    "fd.shape"
   ]
  },
  {
   "cell_type": "code",
   "execution_count": 7,
   "metadata": {},
   "outputs": [
    {
     "data": {
      "text/plain": [
       "recnum          0\n",
       "schedtime       0\n",
       "carrier         0\n",
       "deptime         0\n",
       "dest            0\n",
       "distance        0\n",
       "date            0\n",
       "flightnumber    0\n",
       "origin          0\n",
       "weather         0\n",
       "dayweek         0\n",
       "daymonth        0\n",
       "tailnu          0\n",
       "delay           0\n",
       "dtype: int64"
      ]
     },
     "execution_count": 7,
     "metadata": {},
     "output_type": "execute_result"
    }
   ],
   "source": [
    "#Check nulls per column\n",
    "fd.isnull().sum(axis = 0)"
   ]
  },
  {
   "cell_type": "markdown",
   "metadata": {},
   "source": [
    "### Question 5: Balance of 'delayed' column"
   ]
  },
  {
   "cell_type": "code",
   "execution_count": 8,
   "metadata": {},
   "outputs": [
    {
     "data": {
      "text/plain": [
       "delay\n",
       "delayed     428\n",
       "ontime     1773\n",
       "Name: recnum, dtype: int64"
      ]
     },
     "execution_count": 8,
     "metadata": {},
     "output_type": "execute_result"
    }
   ],
   "source": [
    "# Count of delayed vs. ontime flights\n",
    "fd.groupby('delay')['recnum'].nunique()"
   ]
  },
  {
   "cell_type": "code",
   "execution_count": 9,
   "metadata": {},
   "outputs": [
    {
     "name": "stdout",
     "output_type": "stream",
     "text": [
      "0.24139875916525663\n"
     ]
    }
   ],
   "source": [
    "# Proportion of delayed flights\n",
    "delayed = 428/1773\n",
    "print(delayed)"
   ]
  },
  {
   "cell_type": "markdown",
   "metadata": {},
   "source": [
    "### Question 6: Logistic Regression\n",
    "I tried a few different values for Cs, all of which were integers so the grid of values would be chosen randomly on the logarithmic scale between 0.0001 and 1000, per the documentation. I chose 10, 50, 100, and 200. When Cs was 10, the test AUC droped by 1 percentage point. The AUC using the other values for Cs did not change so I used Cs=100."
   ]
  },
  {
   "cell_type": "code",
   "execution_count": 10,
   "metadata": {},
   "outputs": [
    {
     "data": {
      "text/html": [
       "<div>\n",
       "<style scoped>\n",
       "    .dataframe tbody tr th:only-of-type {\n",
       "        vertical-align: middle;\n",
       "    }\n",
       "\n",
       "    .dataframe tbody tr th {\n",
       "        vertical-align: top;\n",
       "    }\n",
       "\n",
       "    .dataframe thead th {\n",
       "        text-align: right;\n",
       "    }\n",
       "</style>\n",
       "<table border=\"1\" class=\"dataframe\">\n",
       "  <thead>\n",
       "    <tr style=\"text-align: right;\">\n",
       "      <th></th>\n",
       "      <th>recnum</th>\n",
       "      <th>schedtime</th>\n",
       "      <th>carrier</th>\n",
       "      <th>deptime</th>\n",
       "      <th>dest</th>\n",
       "      <th>distance</th>\n",
       "      <th>date</th>\n",
       "      <th>flightnumber</th>\n",
       "      <th>origin</th>\n",
       "      <th>weather</th>\n",
       "      <th>dayweek</th>\n",
       "      <th>daymonth</th>\n",
       "      <th>tailnu</th>\n",
       "      <th>delay</th>\n",
       "      <th>distance_s</th>\n",
       "    </tr>\n",
       "  </thead>\n",
       "  <tbody>\n",
       "    <tr>\n",
       "      <td>0</td>\n",
       "      <td>1</td>\n",
       "      <td>1455</td>\n",
       "      <td>OH</td>\n",
       "      <td>1455</td>\n",
       "      <td>JFK</td>\n",
       "      <td>184</td>\n",
       "      <td>1/1/2004</td>\n",
       "      <td>5935</td>\n",
       "      <td>BWI</td>\n",
       "      <td>0</td>\n",
       "      <td>4</td>\n",
       "      <td>1</td>\n",
       "      <td>N940CA</td>\n",
       "      <td>ontime</td>\n",
       "      <td>-2.093425</td>\n",
       "    </tr>\n",
       "    <tr>\n",
       "      <td>1</td>\n",
       "      <td>2</td>\n",
       "      <td>1640</td>\n",
       "      <td>DH</td>\n",
       "      <td>1640</td>\n",
       "      <td>JFK</td>\n",
       "      <td>213</td>\n",
       "      <td>1/1/2004</td>\n",
       "      <td>6155</td>\n",
       "      <td>DCA</td>\n",
       "      <td>0</td>\n",
       "      <td>4</td>\n",
       "      <td>1</td>\n",
       "      <td>N405FJ</td>\n",
       "      <td>ontime</td>\n",
       "      <td>0.084768</td>\n",
       "    </tr>\n",
       "    <tr>\n",
       "      <td>2</td>\n",
       "      <td>3</td>\n",
       "      <td>1245</td>\n",
       "      <td>DH</td>\n",
       "      <td>1245</td>\n",
       "      <td>LGA</td>\n",
       "      <td>229</td>\n",
       "      <td>1/1/2004</td>\n",
       "      <td>7208</td>\n",
       "      <td>IAD</td>\n",
       "      <td>0</td>\n",
       "      <td>4</td>\n",
       "      <td>1</td>\n",
       "      <td>N695BR</td>\n",
       "      <td>ontime</td>\n",
       "      <td>1.286529</td>\n",
       "    </tr>\n",
       "    <tr>\n",
       "      <td>3</td>\n",
       "      <td>4</td>\n",
       "      <td>1715</td>\n",
       "      <td>DH</td>\n",
       "      <td>1709</td>\n",
       "      <td>LGA</td>\n",
       "      <td>229</td>\n",
       "      <td>1/1/2004</td>\n",
       "      <td>7215</td>\n",
       "      <td>IAD</td>\n",
       "      <td>0</td>\n",
       "      <td>4</td>\n",
       "      <td>1</td>\n",
       "      <td>N662BR</td>\n",
       "      <td>ontime</td>\n",
       "      <td>1.286529</td>\n",
       "    </tr>\n",
       "    <tr>\n",
       "      <td>4</td>\n",
       "      <td>5</td>\n",
       "      <td>1039</td>\n",
       "      <td>DH</td>\n",
       "      <td>1035</td>\n",
       "      <td>LGA</td>\n",
       "      <td>229</td>\n",
       "      <td>1/1/2004</td>\n",
       "      <td>7792</td>\n",
       "      <td>IAD</td>\n",
       "      <td>0</td>\n",
       "      <td>4</td>\n",
       "      <td>1</td>\n",
       "      <td>N698BR</td>\n",
       "      <td>ontime</td>\n",
       "      <td>1.286529</td>\n",
       "    </tr>\n",
       "  </tbody>\n",
       "</table>\n",
       "</div>"
      ],
      "text/plain": [
       "   recnum  schedtime carrier  deptime dest  distance      date  flightnumber  \\\n",
       "0       1       1455      OH     1455  JFK       184  1/1/2004          5935   \n",
       "1       2       1640      DH     1640  JFK       213  1/1/2004          6155   \n",
       "2       3       1245      DH     1245  LGA       229  1/1/2004          7208   \n",
       "3       4       1715      DH     1709  LGA       229  1/1/2004          7215   \n",
       "4       5       1039      DH     1035  LGA       229  1/1/2004          7792   \n",
       "\n",
       "  origin  weather  dayweek  daymonth  tailnu   delay  distance_s  \n",
       "0    BWI        0        4         1  N940CA  ontime   -2.093425  \n",
       "1    DCA        0        4         1  N405FJ  ontime    0.084768  \n",
       "2    IAD        0        4         1  N695BR  ontime    1.286529  \n",
       "3    IAD        0        4         1  N662BR  ontime    1.286529  \n",
       "4    IAD        0        4         1  N698BR  ontime    1.286529  "
      ]
     },
     "execution_count": 10,
     "metadata": {},
     "output_type": "execute_result"
    }
   ],
   "source": [
    "# Standardize the variable distance\n",
    "fd['distance_s'] = preprocessing.scale(fd['distance'])\n",
    "fd.head()"
   ]
  },
  {
   "cell_type": "code",
   "execution_count": 11,
   "metadata": {},
   "outputs": [
    {
     "data": {
      "text/html": [
       "<div>\n",
       "<style scoped>\n",
       "    .dataframe tbody tr th:only-of-type {\n",
       "        vertical-align: middle;\n",
       "    }\n",
       "\n",
       "    .dataframe tbody tr th {\n",
       "        vertical-align: top;\n",
       "    }\n",
       "\n",
       "    .dataframe thead th {\n",
       "        text-align: right;\n",
       "    }\n",
       "</style>\n",
       "<table border=\"1\" class=\"dataframe\">\n",
       "  <thead>\n",
       "    <tr style=\"text-align: right;\">\n",
       "      <th></th>\n",
       "      <th>recnum</th>\n",
       "      <th>schedtime</th>\n",
       "      <th>deptime</th>\n",
       "      <th>distance</th>\n",
       "      <th>date</th>\n",
       "      <th>flightnumber</th>\n",
       "      <th>weather</th>\n",
       "      <th>dayweek</th>\n",
       "      <th>daymonth</th>\n",
       "      <th>tailnu</th>\n",
       "      <th>...</th>\n",
       "      <th>dest_JFK</th>\n",
       "      <th>dest_LGA</th>\n",
       "      <th>origin_BWI</th>\n",
       "      <th>origin_DCA</th>\n",
       "      <th>origin_IAD</th>\n",
       "      <th>delay_delayed</th>\n",
       "      <th>delay_ontime</th>\n",
       "      <th>date_dt</th>\n",
       "      <th>epoch</th>\n",
       "      <th>numdays_dt</th>\n",
       "    </tr>\n",
       "  </thead>\n",
       "  <tbody>\n",
       "    <tr>\n",
       "      <td>0</td>\n",
       "      <td>1</td>\n",
       "      <td>1455</td>\n",
       "      <td>1455</td>\n",
       "      <td>184</td>\n",
       "      <td>1/1/2004</td>\n",
       "      <td>5935</td>\n",
       "      <td>0</td>\n",
       "      <td>4</td>\n",
       "      <td>1</td>\n",
       "      <td>N940CA</td>\n",
       "      <td>...</td>\n",
       "      <td>1</td>\n",
       "      <td>0</td>\n",
       "      <td>1</td>\n",
       "      <td>0</td>\n",
       "      <td>0</td>\n",
       "      <td>0</td>\n",
       "      <td>1</td>\n",
       "      <td>2004-01-01</td>\n",
       "      <td>1960-01-01</td>\n",
       "      <td>16071</td>\n",
       "    </tr>\n",
       "    <tr>\n",
       "      <td>1</td>\n",
       "      <td>2</td>\n",
       "      <td>1640</td>\n",
       "      <td>1640</td>\n",
       "      <td>213</td>\n",
       "      <td>1/1/2004</td>\n",
       "      <td>6155</td>\n",
       "      <td>0</td>\n",
       "      <td>4</td>\n",
       "      <td>1</td>\n",
       "      <td>N405FJ</td>\n",
       "      <td>...</td>\n",
       "      <td>1</td>\n",
       "      <td>0</td>\n",
       "      <td>0</td>\n",
       "      <td>1</td>\n",
       "      <td>0</td>\n",
       "      <td>0</td>\n",
       "      <td>1</td>\n",
       "      <td>2004-01-01</td>\n",
       "      <td>1960-01-01</td>\n",
       "      <td>16071</td>\n",
       "    </tr>\n",
       "    <tr>\n",
       "      <td>2</td>\n",
       "      <td>3</td>\n",
       "      <td>1245</td>\n",
       "      <td>1245</td>\n",
       "      <td>229</td>\n",
       "      <td>1/1/2004</td>\n",
       "      <td>7208</td>\n",
       "      <td>0</td>\n",
       "      <td>4</td>\n",
       "      <td>1</td>\n",
       "      <td>N695BR</td>\n",
       "      <td>...</td>\n",
       "      <td>0</td>\n",
       "      <td>1</td>\n",
       "      <td>0</td>\n",
       "      <td>0</td>\n",
       "      <td>1</td>\n",
       "      <td>0</td>\n",
       "      <td>1</td>\n",
       "      <td>2004-01-01</td>\n",
       "      <td>1960-01-01</td>\n",
       "      <td>16071</td>\n",
       "    </tr>\n",
       "    <tr>\n",
       "      <td>3</td>\n",
       "      <td>4</td>\n",
       "      <td>1715</td>\n",
       "      <td>1709</td>\n",
       "      <td>229</td>\n",
       "      <td>1/1/2004</td>\n",
       "      <td>7215</td>\n",
       "      <td>0</td>\n",
       "      <td>4</td>\n",
       "      <td>1</td>\n",
       "      <td>N662BR</td>\n",
       "      <td>...</td>\n",
       "      <td>0</td>\n",
       "      <td>1</td>\n",
       "      <td>0</td>\n",
       "      <td>0</td>\n",
       "      <td>1</td>\n",
       "      <td>0</td>\n",
       "      <td>1</td>\n",
       "      <td>2004-01-01</td>\n",
       "      <td>1960-01-01</td>\n",
       "      <td>16071</td>\n",
       "    </tr>\n",
       "    <tr>\n",
       "      <td>4</td>\n",
       "      <td>5</td>\n",
       "      <td>1039</td>\n",
       "      <td>1035</td>\n",
       "      <td>229</td>\n",
       "      <td>1/1/2004</td>\n",
       "      <td>7792</td>\n",
       "      <td>0</td>\n",
       "      <td>4</td>\n",
       "      <td>1</td>\n",
       "      <td>N698BR</td>\n",
       "      <td>...</td>\n",
       "      <td>0</td>\n",
       "      <td>1</td>\n",
       "      <td>0</td>\n",
       "      <td>0</td>\n",
       "      <td>1</td>\n",
       "      <td>0</td>\n",
       "      <td>1</td>\n",
       "      <td>2004-01-01</td>\n",
       "      <td>1960-01-01</td>\n",
       "      <td>16071</td>\n",
       "    </tr>\n",
       "  </tbody>\n",
       "</table>\n",
       "<p>5 rows × 30 columns</p>\n",
       "</div>"
      ],
      "text/plain": [
       "   recnum  schedtime  deptime  distance      date  flightnumber  weather  \\\n",
       "0       1       1455     1455       184  1/1/2004          5935        0   \n",
       "1       2       1640     1640       213  1/1/2004          6155        0   \n",
       "2       3       1245     1245       229  1/1/2004          7208        0   \n",
       "3       4       1715     1709       229  1/1/2004          7215        0   \n",
       "4       5       1039     1035       229  1/1/2004          7792        0   \n",
       "\n",
       "   dayweek  daymonth  tailnu  ...  dest_JFK  dest_LGA  origin_BWI  origin_DCA  \\\n",
       "0        4         1  N940CA  ...         1         0           1           0   \n",
       "1        4         1  N405FJ  ...         1         0           0           1   \n",
       "2        4         1  N695BR  ...         0         1           0           0   \n",
       "3        4         1  N662BR  ...         0         1           0           0   \n",
       "4        4         1  N698BR  ...         0         1           0           0   \n",
       "\n",
       "   origin_IAD  delay_delayed  delay_ontime    date_dt      epoch  numdays_dt  \n",
       "0           0              0             1 2004-01-01 1960-01-01       16071  \n",
       "1           0              0             1 2004-01-01 1960-01-01       16071  \n",
       "2           1              0             1 2004-01-01 1960-01-01       16071  \n",
       "3           1              0             1 2004-01-01 1960-01-01       16071  \n",
       "4           1              0             1 2004-01-01 1960-01-01       16071  \n",
       "\n",
       "[5 rows x 30 columns]"
      ]
     },
     "execution_count": 11,
     "metadata": {},
     "output_type": "execute_result"
    }
   ],
   "source": [
    "fd_cpy = fd.copy()\n",
    "\n",
    "# Create dummy variables of categorical variables\n",
    "fd_cpy = pd.get_dummies(fd_cpy, columns=['carrier'])\n",
    "fd_cpy = pd.get_dummies(fd_cpy, columns=['dest'])\n",
    "fd_cpy = pd.get_dummies(fd_cpy, columns=['origin'])\n",
    "fd_cpy = pd.get_dummies(fd_cpy, columns=['delay'])\n",
    "\n",
    "# Convert date to datetime type\n",
    "fd_cpy['date_dt'] = pd.to_datetime(fd_cpy['date'])\n",
    "fd_cpy['epoch'] = pd.to_datetime(\"1960-01-01\")\n",
    "fd_cpy['numdays_dt'] = fd_cpy['date_dt'] - fd_cpy['epoch']\n",
    "fd_cpy['numdays_dt'] = fd_cpy['numdays_dt'].dt.days\n",
    "\n",
    "# Convert number of days to a category\n",
    "#fd_cpy['numdays_dt'] = fd_cpy['numdays_dt'].astype('category')\n",
    "\n",
    "fd_cpy.head()"
   ]
  },
  {
   "cell_type": "code",
   "execution_count": 12,
   "metadata": {},
   "outputs": [
    {
     "data": {
      "text/html": [
       "<div>\n",
       "<style scoped>\n",
       "    .dataframe tbody tr th:only-of-type {\n",
       "        vertical-align: middle;\n",
       "    }\n",
       "\n",
       "    .dataframe tbody tr th {\n",
       "        vertical-align: top;\n",
       "    }\n",
       "\n",
       "    .dataframe thead th {\n",
       "        text-align: right;\n",
       "    }\n",
       "</style>\n",
       "<table border=\"1\" class=\"dataframe\">\n",
       "  <thead>\n",
       "    <tr style=\"text-align: right;\">\n",
       "      <th></th>\n",
       "      <th>recnum</th>\n",
       "      <th>schedtime</th>\n",
       "      <th>deptime</th>\n",
       "      <th>distance</th>\n",
       "      <th>date</th>\n",
       "      <th>flightnumber</th>\n",
       "      <th>weather</th>\n",
       "      <th>dayweek</th>\n",
       "      <th>daymonth</th>\n",
       "      <th>tailnu</th>\n",
       "      <th>...</th>\n",
       "      <th>origin_IAD</th>\n",
       "      <th>delay_delayed</th>\n",
       "      <th>delay_ontime</th>\n",
       "      <th>date_dt</th>\n",
       "      <th>epoch</th>\n",
       "      <th>numdays_dt</th>\n",
       "      <th>schedtime_tm</th>\n",
       "      <th>deptime_tm</th>\n",
       "      <th>scheduled_dt</th>\n",
       "      <th>departure_dt</th>\n",
       "    </tr>\n",
       "  </thead>\n",
       "  <tbody>\n",
       "    <tr>\n",
       "      <td>0</td>\n",
       "      <td>1</td>\n",
       "      <td>1455</td>\n",
       "      <td>1455</td>\n",
       "      <td>184</td>\n",
       "      <td>1/1/2004</td>\n",
       "      <td>5935</td>\n",
       "      <td>0</td>\n",
       "      <td>4</td>\n",
       "      <td>1</td>\n",
       "      <td>N940CA</td>\n",
       "      <td>...</td>\n",
       "      <td>0</td>\n",
       "      <td>0</td>\n",
       "      <td>1</td>\n",
       "      <td>2004-01-01</td>\n",
       "      <td>1960-01-01</td>\n",
       "      <td>16071</td>\n",
       "      <td>14:55:00</td>\n",
       "      <td>14:55:00</td>\n",
       "      <td>2004-01-01 14:55:00</td>\n",
       "      <td>2004-01-01 14:55:00</td>\n",
       "    </tr>\n",
       "    <tr>\n",
       "      <td>1</td>\n",
       "      <td>2</td>\n",
       "      <td>1640</td>\n",
       "      <td>1640</td>\n",
       "      <td>213</td>\n",
       "      <td>1/1/2004</td>\n",
       "      <td>6155</td>\n",
       "      <td>0</td>\n",
       "      <td>4</td>\n",
       "      <td>1</td>\n",
       "      <td>N405FJ</td>\n",
       "      <td>...</td>\n",
       "      <td>0</td>\n",
       "      <td>0</td>\n",
       "      <td>1</td>\n",
       "      <td>2004-01-01</td>\n",
       "      <td>1960-01-01</td>\n",
       "      <td>16071</td>\n",
       "      <td>16:40:00</td>\n",
       "      <td>16:40:00</td>\n",
       "      <td>2004-01-01 16:40:00</td>\n",
       "      <td>2004-01-01 16:40:00</td>\n",
       "    </tr>\n",
       "    <tr>\n",
       "      <td>2</td>\n",
       "      <td>3</td>\n",
       "      <td>1245</td>\n",
       "      <td>1245</td>\n",
       "      <td>229</td>\n",
       "      <td>1/1/2004</td>\n",
       "      <td>7208</td>\n",
       "      <td>0</td>\n",
       "      <td>4</td>\n",
       "      <td>1</td>\n",
       "      <td>N695BR</td>\n",
       "      <td>...</td>\n",
       "      <td>1</td>\n",
       "      <td>0</td>\n",
       "      <td>1</td>\n",
       "      <td>2004-01-01</td>\n",
       "      <td>1960-01-01</td>\n",
       "      <td>16071</td>\n",
       "      <td>12:45:00</td>\n",
       "      <td>12:45:00</td>\n",
       "      <td>2004-01-01 12:45:00</td>\n",
       "      <td>2004-01-01 12:45:00</td>\n",
       "    </tr>\n",
       "    <tr>\n",
       "      <td>3</td>\n",
       "      <td>4</td>\n",
       "      <td>1715</td>\n",
       "      <td>1709</td>\n",
       "      <td>229</td>\n",
       "      <td>1/1/2004</td>\n",
       "      <td>7215</td>\n",
       "      <td>0</td>\n",
       "      <td>4</td>\n",
       "      <td>1</td>\n",
       "      <td>N662BR</td>\n",
       "      <td>...</td>\n",
       "      <td>1</td>\n",
       "      <td>0</td>\n",
       "      <td>1</td>\n",
       "      <td>2004-01-01</td>\n",
       "      <td>1960-01-01</td>\n",
       "      <td>16071</td>\n",
       "      <td>17:15:00</td>\n",
       "      <td>17:09:00</td>\n",
       "      <td>2004-01-01 17:15:00</td>\n",
       "      <td>2004-01-01 17:09:00</td>\n",
       "    </tr>\n",
       "    <tr>\n",
       "      <td>4</td>\n",
       "      <td>5</td>\n",
       "      <td>1039</td>\n",
       "      <td>1035</td>\n",
       "      <td>229</td>\n",
       "      <td>1/1/2004</td>\n",
       "      <td>7792</td>\n",
       "      <td>0</td>\n",
       "      <td>4</td>\n",
       "      <td>1</td>\n",
       "      <td>N698BR</td>\n",
       "      <td>...</td>\n",
       "      <td>1</td>\n",
       "      <td>0</td>\n",
       "      <td>1</td>\n",
       "      <td>2004-01-01</td>\n",
       "      <td>1960-01-01</td>\n",
       "      <td>16071</td>\n",
       "      <td>10:39:00</td>\n",
       "      <td>10:35:00</td>\n",
       "      <td>2004-01-01 10:39:00</td>\n",
       "      <td>2004-01-01 10:35:00</td>\n",
       "    </tr>\n",
       "  </tbody>\n",
       "</table>\n",
       "<p>5 rows × 34 columns</p>\n",
       "</div>"
      ],
      "text/plain": [
       "   recnum  schedtime  deptime  distance      date  flightnumber  weather  \\\n",
       "0       1       1455     1455       184  1/1/2004          5935        0   \n",
       "1       2       1640     1640       213  1/1/2004          6155        0   \n",
       "2       3       1245     1245       229  1/1/2004          7208        0   \n",
       "3       4       1715     1709       229  1/1/2004          7215        0   \n",
       "4       5       1039     1035       229  1/1/2004          7792        0   \n",
       "\n",
       "   dayweek  daymonth  tailnu  ...  origin_IAD  delay_delayed  delay_ontime  \\\n",
       "0        4         1  N940CA  ...           0              0             1   \n",
       "1        4         1  N405FJ  ...           0              0             1   \n",
       "2        4         1  N695BR  ...           1              0             1   \n",
       "3        4         1  N662BR  ...           1              0             1   \n",
       "4        4         1  N698BR  ...           1              0             1   \n",
       "\n",
       "     date_dt      epoch  numdays_dt  schedtime_tm  deptime_tm  \\\n",
       "0 2004-01-01 1960-01-01       16071      14:55:00    14:55:00   \n",
       "1 2004-01-01 1960-01-01       16071      16:40:00    16:40:00   \n",
       "2 2004-01-01 1960-01-01       16071      12:45:00    12:45:00   \n",
       "3 2004-01-01 1960-01-01       16071      17:15:00    17:09:00   \n",
       "4 2004-01-01 1960-01-01       16071      10:39:00    10:35:00   \n",
       "\n",
       "         scheduled_dt        departure_dt  \n",
       "0 2004-01-01 14:55:00 2004-01-01 14:55:00  \n",
       "1 2004-01-01 16:40:00 2004-01-01 16:40:00  \n",
       "2 2004-01-01 12:45:00 2004-01-01 12:45:00  \n",
       "3 2004-01-01 17:15:00 2004-01-01 17:09:00  \n",
       "4 2004-01-01 10:39:00 2004-01-01 10:35:00  \n",
       "\n",
       "[5 rows x 34 columns]"
      ]
     },
     "execution_count": 12,
     "metadata": {},
     "output_type": "execute_result"
    }
   ],
   "source": [
    "# This was not in the assignment but I was curious how to convert integers to times and \n",
    "# then create a combined datetime variable with the date and time\n",
    "\n",
    "# Convert schedtime and deptime to time type\n",
    "fd_cpy['schedtime_tm'] = pd.to_datetime(fd_cpy['schedtime'], format='%H%M').dt.time \n",
    "fd_cpy['deptime_tm'] = pd.to_datetime(fd_cpy['deptime'], format='%H%M').dt.time\n",
    "\n",
    "# Combine the date and time for both schedtime and deptime\n",
    "fd_cpy['scheduled_dt'] = pd.to_datetime(fd_cpy[\"date_dt\"].astype(str) + \" \" + fd_cpy[\"schedtime_tm\"].astype(str))\n",
    "fd_cpy['departure_dt'] = pd.to_datetime(fd_cpy[\"date_dt\"].astype(str) + \" \" + fd_cpy[\"deptime_tm\"].astype(str))\n",
    "\n",
    "date_chk = fd_cpy[(fd_cpy['departure_dt'] < fd_cpy['scheduled_dt']) & (fd_cpy['delay_delayed']==1)]\n",
    "date_chk.head()\n",
    "\n",
    "fd_cpy.head()"
   ]
  },
  {
   "cell_type": "code",
   "execution_count": 13,
   "metadata": {},
   "outputs": [
    {
     "data": {
      "text/plain": [
       "recnum                    int64\n",
       "schedtime                 int64\n",
       "deptime                   int64\n",
       "distance                  int64\n",
       "date                     object\n",
       "flightnumber              int64\n",
       "weather                   int64\n",
       "dayweek                   int64\n",
       "daymonth                  int64\n",
       "tailnu                   object\n",
       "distance_s              float64\n",
       "carrier_CO                uint8\n",
       "carrier_DH                uint8\n",
       "carrier_DL                uint8\n",
       "carrier_MQ                uint8\n",
       "carrier_OH                uint8\n",
       "carrier_RU                uint8\n",
       "carrier_UA                uint8\n",
       "carrier_US                uint8\n",
       "dest_EWR                  uint8\n",
       "dest_JFK                  uint8\n",
       "dest_LGA                  uint8\n",
       "origin_BWI                uint8\n",
       "origin_DCA                uint8\n",
       "origin_IAD                uint8\n",
       "delay_delayed             uint8\n",
       "delay_ontime              uint8\n",
       "date_dt          datetime64[ns]\n",
       "epoch            datetime64[ns]\n",
       "numdays_dt                int64\n",
       "schedtime_tm             object\n",
       "deptime_tm               object\n",
       "scheduled_dt     datetime64[ns]\n",
       "departure_dt     datetime64[ns]\n",
       "dtype: object"
      ]
     },
     "execution_count": 13,
     "metadata": {},
     "output_type": "execute_result"
    }
   ],
   "source": [
    "fd_cpy.dtypes"
   ]
  },
  {
   "cell_type": "code",
   "execution_count": 37,
   "metadata": {},
   "outputs": [],
   "source": [
    "# Split into training and test sets\n",
    "target = fd_cpy[['delay_delayed', 'flightnumber', 'tailnu']]\n",
    "flight_delay_vars = fd_cpy[['schedtime', 'deptime', 'distance_s', 'numdays_dt', 'weather', 'dayweek', \n",
    "                            'daymonth', 'carrier_CO', 'carrier_DH', 'carrier_MQ', 'carrier_OH', 'carrier_US', \n",
    "                            'carrier_RU', 'carrier_UA', 'dest_EWR', 'dest_JFK', 'dest_LGA', 'origin_BWI', \n",
    "                            'origin_DCA', 'origin_IAD']]\n",
    "flight_delay_vars = fd_cpy[['schedtime', 'deptime', 'distance_s', 'numdays_dt', 'weather', 'dayweek', \n",
    "                            'daymonth', 'carrier_CO', 'carrier_DH', 'carrier_MQ', 'carrier_OH', \n",
    "                            'carrier_RU', 'carrier_UA', 'dest_EWR', 'dest_JFK', 'origin_BWI', \n",
    "                            'origin_DCA']]\n",
    "x_train, x_test, y_train, y_test = train_test_split(flight_delay_vars, \n",
    "                                                    target, \n",
    "                                                    test_size=0.2, \n",
    "                                                    random_state=1)"
   ]
  },
  {
   "cell_type": "code",
   "execution_count": 23,
   "metadata": {},
   "outputs": [
    {
     "name": "stdout",
     "output_type": "stream",
     "text": [
      "Warning: Maximum number of iterations has been exceeded.\n",
      "         Current function value: inf\n",
      "         Iterations: 35\n",
      "                           Results: Logit\n",
      "====================================================================\n",
      "Model:                 Logit              Pseudo R-squared:   inf   \n",
      "Dependent Variable:    delay_delayed      AIC:                inf   \n",
      "Date:                  2020-01-29 14:30   BIC:                inf   \n",
      "No. Observations:      1760               Log-Likelihood:     -inf  \n",
      "Df Model:              17                 LL-Null:            0.0000\n",
      "Df Residuals:          1742               LLR p-value:        1.0000\n",
      "Converged:             0.0000             Scale:              1.0000\n",
      "No. Iterations:        35.0000                                      \n",
      "--------------------------------------------------------------------\n",
      "            Coef.    Std.Err.    z     P>|z|     [0.025     0.975]  \n",
      "--------------------------------------------------------------------\n",
      "schedtime   -0.0286    0.0021 -13.8406 0.0000     -0.0327    -0.0246\n",
      "deptime      0.0291    0.0021  14.1635 0.0000      0.0251     0.0331\n",
      "distance_s -28.0653    9.8307  -2.8549 0.0043    -47.3331    -8.7974\n",
      "numdays_dt  -0.0013  273.1541  -0.0000 1.0000   -535.3735   535.3708\n",
      "weather     21.7926 9451.1791   0.0023 0.9982 -18502.1779 18545.7632\n",
      "dayweek     -0.0533    0.0394  -1.3529 0.1761     -0.1304     0.0239\n",
      "daymonth     0.0236  273.1541   0.0001 0.9999   -535.3485   535.3958\n",
      "carrier_CO   3.1776    0.8796   3.6127 0.0003      1.4537     4.9016\n",
      "carrier_DH   0.9573    0.6283   1.5237 0.1276     -0.2741     2.1887\n",
      "carrier_MQ   1.5000    0.2682   5.5932 0.0000      0.9743     2.0256\n",
      "carrier_OH   0.4239    1.0862   0.3902 0.6964     -1.7050     2.5527\n",
      "carrier_US   0.8203    0.2909   2.8197 0.0048      0.2501     1.3904\n",
      "carrier_RU   2.2360    0.7413   3.0161 0.0026      0.7830     3.6890\n",
      "carrier_UA   0.6721    0.9376   0.7168 0.4735     -1.1656     2.5098\n",
      "dest_EWR   -21.6600       nan      nan    nan         nan        nan\n",
      "dest_JFK     9.7117       nan      nan    nan         nan        nan\n",
      "dest_LGA    11.9482       nan      nan    nan         nan        nan\n",
      "origin_BWI -52.0117       nan      nan    nan         nan        nan\n",
      "origin_DCA  10.5011       nan      nan    nan         nan        nan\n",
      "origin_IAD  41.5107       nan      nan    nan         nan        nan\n",
      "====================================================================\n",
      "\n"
     ]
    },
    {
     "name": "stderr",
     "output_type": "stream",
     "text": [
      "/Users/lisaover/opt/anaconda3/lib/python3.7/site-packages/statsmodels/base/model.py:512: ConvergenceWarning: Maximum Likelihood optimization failed to converge. Check mle_retvals\n",
      "  \"Check mle_retvals\", ConvergenceWarning)\n",
      "/Users/lisaover/opt/anaconda3/lib/python3.7/site-packages/statsmodels/base/model.py:492: HessianInversionWarning: Inverting hessian failed, no bse or cov_params available\n",
      "  'available', HessianInversionWarning)\n",
      "/Users/lisaover/opt/anaconda3/lib/python3.7/site-packages/statsmodels/base/model.py:492: HessianInversionWarning: Inverting hessian failed, no bse or cov_params available\n",
      "  'available', HessianInversionWarning)\n"
     ]
    }
   ],
   "source": [
    "# Perform logistic regression with the statsmodels package\n",
    "logit_model=sm.Logit(y_train['delay_delayed'], x_train)\n",
    "result=logit_model.fit()\n",
    "print(result.summary2())"
   ]
  },
  {
   "cell_type": "code",
   "execution_count": 24,
   "metadata": {},
   "outputs": [],
   "source": [
    "# Create logistic regression CV object \n",
    "clf = LogisticRegressionCV(solver = 'saga',\n",
    "                           penalty = 'elasticnet',\n",
    "                           l1_ratios = [0.0, 0.1, 0.2, 0.3, 0.4, 0.5, 0.6, 0.7, 0.8, 0.9, 1.0],\n",
    "                           Cs = 100,\n",
    "                           n_jobs = -1,\n",
    "                           random_state = 0\n",
    ")"
   ]
  },
  {
   "cell_type": "code",
   "execution_count": 25,
   "metadata": {},
   "outputs": [],
   "source": [
    "# Fit using training sets from split with all variables\n",
    "clf_model = clf.fit(x_train, y_train['delay_delayed'])"
   ]
  },
  {
   "cell_type": "code",
   "execution_count": 26,
   "metadata": {},
   "outputs": [
    {
     "data": {
      "text/plain": [
       "array([[-2.38183706e-02,  2.42626821e-02, -2.98788276e-05,\n",
       "        -1.40880207e-04,  9.13935759e-06, -1.01676221e-04,\n",
       "         2.16436498e-03,  4.62181121e-06, -1.16302725e-05,\n",
       "         3.41233164e-05, -3.92218919e-06,  5.51483013e-08,\n",
       "         1.10941619e-05, -1.35985024e-06,  1.44180461e-05,\n",
       "        -5.74337394e-06, -8.30953393e-06,  1.03560748e-06,\n",
       "         1.11137991e-06, -2.27392581e-06]])"
      ]
     },
     "execution_count": 26,
     "metadata": {},
     "output_type": "execute_result"
    }
   ],
   "source": [
    "# Examine the coefficients\n",
    "clf_model.coef_"
   ]
  },
  {
   "cell_type": "code",
   "execution_count": 27,
   "metadata": {},
   "outputs": [],
   "source": [
    "# Fit and assess the results in terms of AUC on the training data\n",
    "x_train_probs = clf_model.predict_proba(x_train)"
   ]
  },
  {
   "cell_type": "code",
   "execution_count": 28,
   "metadata": {},
   "outputs": [
    {
     "data": {
      "text/html": [
       "<div>\n",
       "<style scoped>\n",
       "    .dataframe tbody tr th:only-of-type {\n",
       "        vertical-align: middle;\n",
       "    }\n",
       "\n",
       "    .dataframe tbody tr th {\n",
       "        vertical-align: top;\n",
       "    }\n",
       "\n",
       "    .dataframe thead th {\n",
       "        text-align: right;\n",
       "    }\n",
       "</style>\n",
       "<table border=\"1\" class=\"dataframe\">\n",
       "  <thead>\n",
       "    <tr style=\"text-align: right;\">\n",
       "      <th></th>\n",
       "      <th>trainprobs0</th>\n",
       "      <th>trainprobs1</th>\n",
       "    </tr>\n",
       "  </thead>\n",
       "  <tbody>\n",
       "    <tr>\n",
       "      <td>0</td>\n",
       "      <td>0.953319</td>\n",
       "      <td>0.046681</td>\n",
       "    </tr>\n",
       "    <tr>\n",
       "      <td>1</td>\n",
       "      <td>0.795531</td>\n",
       "      <td>0.204469</td>\n",
       "    </tr>\n",
       "    <tr>\n",
       "      <td>2</td>\n",
       "      <td>0.880365</td>\n",
       "      <td>0.119635</td>\n",
       "    </tr>\n",
       "    <tr>\n",
       "      <td>3</td>\n",
       "      <td>0.830711</td>\n",
       "      <td>0.169289</td>\n",
       "    </tr>\n",
       "    <tr>\n",
       "      <td>4</td>\n",
       "      <td>0.705833</td>\n",
       "      <td>0.294167</td>\n",
       "    </tr>\n",
       "  </tbody>\n",
       "</table>\n",
       "</div>"
      ],
      "text/plain": [
       "   trainprobs0  trainprobs1\n",
       "0     0.953319     0.046681\n",
       "1     0.795531     0.204469\n",
       "2     0.880365     0.119635\n",
       "3     0.830711     0.169289\n",
       "4     0.705833     0.294167"
      ]
     },
     "execution_count": 28,
     "metadata": {},
     "output_type": "execute_result"
    }
   ],
   "source": [
    "# Convert the array to a dataframe so to see what the probabilities look like for the training model\n",
    "x_train_probs_df = pd.DataFrame(x_train_probs)\n",
    "x_train_probs_df.columns = ['trainprobs' + str(col) for col in x_train_probs_df.columns]\n",
    "x_train_probs_df.head()"
   ]
  },
  {
   "cell_type": "code",
   "execution_count": 29,
   "metadata": {},
   "outputs": [
    {
     "data": {
      "text/html": [
       "<div>\n",
       "<style scoped>\n",
       "    .dataframe tbody tr th:only-of-type {\n",
       "        vertical-align: middle;\n",
       "    }\n",
       "\n",
       "    .dataframe tbody tr th {\n",
       "        vertical-align: top;\n",
       "    }\n",
       "\n",
       "    .dataframe thead th {\n",
       "        text-align: right;\n",
       "    }\n",
       "</style>\n",
       "<table border=\"1\" class=\"dataframe\">\n",
       "  <thead>\n",
       "    <tr style=\"text-align: right;\">\n",
       "      <th></th>\n",
       "      <th>schedtime</th>\n",
       "      <th>deptime</th>\n",
       "      <th>distance_s</th>\n",
       "      <th>numdays_dt</th>\n",
       "      <th>weather</th>\n",
       "      <th>dayweek</th>\n",
       "      <th>daymonth</th>\n",
       "      <th>carrier_CO</th>\n",
       "      <th>carrier_DH</th>\n",
       "      <th>carrier_MQ</th>\n",
       "      <th>...</th>\n",
       "      <th>carrier_US</th>\n",
       "      <th>carrier_RU</th>\n",
       "      <th>carrier_UA</th>\n",
       "      <th>dest_EWR</th>\n",
       "      <th>dest_JFK</th>\n",
       "      <th>dest_LGA</th>\n",
       "      <th>origin_BWI</th>\n",
       "      <th>origin_DCA</th>\n",
       "      <th>origin_IAD</th>\n",
       "      <th>probabilities_1</th>\n",
       "    </tr>\n",
       "  </thead>\n",
       "  <tbody>\n",
       "    <tr>\n",
       "      <td>987</td>\n",
       "      <td>700</td>\n",
       "      <td>655</td>\n",
       "      <td>-3.220077</td>\n",
       "      <td>16084</td>\n",
       "      <td>0</td>\n",
       "      <td>3</td>\n",
       "      <td>14</td>\n",
       "      <td>0</td>\n",
       "      <td>0</td>\n",
       "      <td>0</td>\n",
       "      <td>...</td>\n",
       "      <td>0</td>\n",
       "      <td>1</td>\n",
       "      <td>0</td>\n",
       "      <td>1</td>\n",
       "      <td>0</td>\n",
       "      <td>0</td>\n",
       "      <td>1</td>\n",
       "      <td>0</td>\n",
       "      <td>0</td>\n",
       "      <td>0.046681</td>\n",
       "    </tr>\n",
       "    <tr>\n",
       "      <td>375</td>\n",
       "      <td>2120</td>\n",
       "      <td>2118</td>\n",
       "      <td>0.084768</td>\n",
       "      <td>16076</td>\n",
       "      <td>0</td>\n",
       "      <td>2</td>\n",
       "      <td>6</td>\n",
       "      <td>0</td>\n",
       "      <td>1</td>\n",
       "      <td>0</td>\n",
       "      <td>...</td>\n",
       "      <td>0</td>\n",
       "      <td>0</td>\n",
       "      <td>0</td>\n",
       "      <td>1</td>\n",
       "      <td>0</td>\n",
       "      <td>0</td>\n",
       "      <td>0</td>\n",
       "      <td>0</td>\n",
       "      <td>1</td>\n",
       "      <td>0.204469</td>\n",
       "    </tr>\n",
       "    <tr>\n",
       "      <td>1071</td>\n",
       "      <td>645</td>\n",
       "      <td>643</td>\n",
       "      <td>-0.966774</td>\n",
       "      <td>16085</td>\n",
       "      <td>0</td>\n",
       "      <td>4</td>\n",
       "      <td>15</td>\n",
       "      <td>0</td>\n",
       "      <td>0</td>\n",
       "      <td>0</td>\n",
       "      <td>...</td>\n",
       "      <td>0</td>\n",
       "      <td>1</td>\n",
       "      <td>0</td>\n",
       "      <td>1</td>\n",
       "      <td>0</td>\n",
       "      <td>0</td>\n",
       "      <td>0</td>\n",
       "      <td>1</td>\n",
       "      <td>0</td>\n",
       "      <td>0.119635</td>\n",
       "    </tr>\n",
       "    <tr>\n",
       "      <td>37</td>\n",
       "      <td>1730</td>\n",
       "      <td>1726</td>\n",
       "      <td>-0.966774</td>\n",
       "      <td>16071</td>\n",
       "      <td>0</td>\n",
       "      <td>4</td>\n",
       "      <td>1</td>\n",
       "      <td>1</td>\n",
       "      <td>0</td>\n",
       "      <td>0</td>\n",
       "      <td>...</td>\n",
       "      <td>0</td>\n",
       "      <td>0</td>\n",
       "      <td>0</td>\n",
       "      <td>1</td>\n",
       "      <td>0</td>\n",
       "      <td>0</td>\n",
       "      <td>0</td>\n",
       "      <td>1</td>\n",
       "      <td>0</td>\n",
       "      <td>0.169289</td>\n",
       "    </tr>\n",
       "    <tr>\n",
       "      <td>282</td>\n",
       "      <td>700</td>\n",
       "      <td>744</td>\n",
       "      <td>-3.220077</td>\n",
       "      <td>16075</td>\n",
       "      <td>0</td>\n",
       "      <td>1</td>\n",
       "      <td>5</td>\n",
       "      <td>0</td>\n",
       "      <td>0</td>\n",
       "      <td>0</td>\n",
       "      <td>...</td>\n",
       "      <td>0</td>\n",
       "      <td>1</td>\n",
       "      <td>0</td>\n",
       "      <td>1</td>\n",
       "      <td>0</td>\n",
       "      <td>0</td>\n",
       "      <td>1</td>\n",
       "      <td>0</td>\n",
       "      <td>0</td>\n",
       "      <td>0.294167</td>\n",
       "    </tr>\n",
       "  </tbody>\n",
       "</table>\n",
       "<p>5 rows × 21 columns</p>\n",
       "</div>"
      ],
      "text/plain": [
       "      schedtime  deptime  distance_s  numdays_dt  weather  dayweek  daymonth  \\\n",
       "987         700      655   -3.220077       16084        0        3        14   \n",
       "375        2120     2118    0.084768       16076        0        2         6   \n",
       "1071        645      643   -0.966774       16085        0        4        15   \n",
       "37         1730     1726   -0.966774       16071        0        4         1   \n",
       "282         700      744   -3.220077       16075        0        1         5   \n",
       "\n",
       "      carrier_CO  carrier_DH  carrier_MQ  ...  carrier_US  carrier_RU  \\\n",
       "987            0           0           0  ...           0           1   \n",
       "375            0           1           0  ...           0           0   \n",
       "1071           0           0           0  ...           0           1   \n",
       "37             1           0           0  ...           0           0   \n",
       "282            0           0           0  ...           0           1   \n",
       "\n",
       "      carrier_UA  dest_EWR  dest_JFK  dest_LGA  origin_BWI  origin_DCA  \\\n",
       "987            0         1         0         0           1           0   \n",
       "375            0         1         0         0           0           0   \n",
       "1071           0         1         0         0           0           1   \n",
       "37             0         1         0         0           0           1   \n",
       "282            0         1         0         0           1           0   \n",
       "\n",
       "      origin_IAD  probabilities_1  \n",
       "987            0         0.046681  \n",
       "375            1         0.204469  \n",
       "1071           0         0.119635  \n",
       "37             0         0.169289  \n",
       "282            0         0.294167  \n",
       "\n",
       "[5 rows x 21 columns]"
      ]
     },
     "execution_count": 29,
     "metadata": {},
     "output_type": "execute_result"
    }
   ],
   "source": [
    "# Add predictions to x_train and y_train sets\n",
    "x_trainx = x_train.copy()\n",
    "x_trainx['probabilities_1'] = x_train_probs[:,1]\n",
    "x_trainx.head()"
   ]
  },
  {
   "cell_type": "code",
   "execution_count": 30,
   "metadata": {},
   "outputs": [],
   "source": [
    "# Fit and assess the results in terms of AUC on the training data\n",
    "x_test_probs = clf_model.predict_proba(x_test)"
   ]
  },
  {
   "cell_type": "code",
   "execution_count": 31,
   "metadata": {},
   "outputs": [
    {
     "data": {
      "text/html": [
       "<div>\n",
       "<style scoped>\n",
       "    .dataframe tbody tr th:only-of-type {\n",
       "        vertical-align: middle;\n",
       "    }\n",
       "\n",
       "    .dataframe tbody tr th {\n",
       "        vertical-align: top;\n",
       "    }\n",
       "\n",
       "    .dataframe thead th {\n",
       "        text-align: right;\n",
       "    }\n",
       "</style>\n",
       "<table border=\"1\" class=\"dataframe\">\n",
       "  <thead>\n",
       "    <tr style=\"text-align: right;\">\n",
       "      <th></th>\n",
       "      <th>testprobs0</th>\n",
       "      <th>testprobs1</th>\n",
       "    </tr>\n",
       "  </thead>\n",
       "  <tbody>\n",
       "    <tr>\n",
       "      <td>0</td>\n",
       "      <td>0.830871</td>\n",
       "      <td>0.169129</td>\n",
       "    </tr>\n",
       "    <tr>\n",
       "      <td>1</td>\n",
       "      <td>0.874556</td>\n",
       "      <td>0.125444</td>\n",
       "    </tr>\n",
       "    <tr>\n",
       "      <td>2</td>\n",
       "      <td>0.952774</td>\n",
       "      <td>0.047226</td>\n",
       "    </tr>\n",
       "    <tr>\n",
       "      <td>3</td>\n",
       "      <td>0.811105</td>\n",
       "      <td>0.188895</td>\n",
       "    </tr>\n",
       "    <tr>\n",
       "      <td>4</td>\n",
       "      <td>0.918711</td>\n",
       "      <td>0.081289</td>\n",
       "    </tr>\n",
       "  </tbody>\n",
       "</table>\n",
       "</div>"
      ],
      "text/plain": [
       "   testprobs0  testprobs1\n",
       "0    0.830871    0.169129\n",
       "1    0.874556    0.125444\n",
       "2    0.952774    0.047226\n",
       "3    0.811105    0.188895\n",
       "4    0.918711    0.081289"
      ]
     },
     "execution_count": 31,
     "metadata": {},
     "output_type": "execute_result"
    }
   ],
   "source": [
    "# Convert the array to a dataframe so to see what the probabilities look like for the test model\n",
    "x_test_probs_df = pd.DataFrame(x_test_probs)\n",
    "x_test_probs_df.columns = ['testprobs' + str(col) for col in x_test_probs_df.columns]\n",
    "x_test_probs_df.head()"
   ]
  },
  {
   "cell_type": "code",
   "execution_count": 32,
   "metadata": {},
   "outputs": [
    {
     "data": {
      "text/html": [
       "<div>\n",
       "<style scoped>\n",
       "    .dataframe tbody tr th:only-of-type {\n",
       "        vertical-align: middle;\n",
       "    }\n",
       "\n",
       "    .dataframe tbody tr th {\n",
       "        vertical-align: top;\n",
       "    }\n",
       "\n",
       "    .dataframe thead th {\n",
       "        text-align: right;\n",
       "    }\n",
       "</style>\n",
       "<table border=\"1\" class=\"dataframe\">\n",
       "  <thead>\n",
       "    <tr style=\"text-align: right;\">\n",
       "      <th></th>\n",
       "      <th>schedtime</th>\n",
       "      <th>deptime</th>\n",
       "      <th>distance_s</th>\n",
       "      <th>numdays_dt</th>\n",
       "      <th>weather</th>\n",
       "      <th>dayweek</th>\n",
       "      <th>daymonth</th>\n",
       "      <th>carrier_CO</th>\n",
       "      <th>carrier_DH</th>\n",
       "      <th>carrier_MQ</th>\n",
       "      <th>...</th>\n",
       "      <th>carrier_US</th>\n",
       "      <th>carrier_RU</th>\n",
       "      <th>carrier_UA</th>\n",
       "      <th>dest_EWR</th>\n",
       "      <th>dest_JFK</th>\n",
       "      <th>dest_LGA</th>\n",
       "      <th>origin_BWI</th>\n",
       "      <th>origin_DCA</th>\n",
       "      <th>origin_IAD</th>\n",
       "      <th>probabilities_1</th>\n",
       "    </tr>\n",
       "  </thead>\n",
       "  <tbody>\n",
       "    <tr>\n",
       "      <td>1276</td>\n",
       "      <td>1645</td>\n",
       "      <td>1641</td>\n",
       "      <td>1.211419</td>\n",
       "      <td>16089</td>\n",
       "      <td>0</td>\n",
       "      <td>1</td>\n",
       "      <td>19</td>\n",
       "      <td>0</td>\n",
       "      <td>1</td>\n",
       "      <td>0</td>\n",
       "      <td>...</td>\n",
       "      <td>0</td>\n",
       "      <td>0</td>\n",
       "      <td>0</td>\n",
       "      <td>0</td>\n",
       "      <td>1</td>\n",
       "      <td>0</td>\n",
       "      <td>0</td>\n",
       "      <td>0</td>\n",
       "      <td>1</td>\n",
       "      <td>0.169129</td>\n",
       "    </tr>\n",
       "    <tr>\n",
       "      <td>1446</td>\n",
       "      <td>630</td>\n",
       "      <td>630</td>\n",
       "      <td>0.159878</td>\n",
       "      <td>16091</td>\n",
       "      <td>0</td>\n",
       "      <td>3</td>\n",
       "      <td>21</td>\n",
       "      <td>0</td>\n",
       "      <td>0</td>\n",
       "      <td>0</td>\n",
       "      <td>...</td>\n",
       "      <td>0</td>\n",
       "      <td>0</td>\n",
       "      <td>0</td>\n",
       "      <td>0</td>\n",
       "      <td>0</td>\n",
       "      <td>1</td>\n",
       "      <td>0</td>\n",
       "      <td>1</td>\n",
       "      <td>0</td>\n",
       "      <td>0.125444</td>\n",
       "    </tr>\n",
       "    <tr>\n",
       "      <td>335</td>\n",
       "      <td>600</td>\n",
       "      <td>558</td>\n",
       "      <td>0.084768</td>\n",
       "      <td>16076</td>\n",
       "      <td>0</td>\n",
       "      <td>2</td>\n",
       "      <td>6</td>\n",
       "      <td>0</td>\n",
       "      <td>0</td>\n",
       "      <td>1</td>\n",
       "      <td>...</td>\n",
       "      <td>0</td>\n",
       "      <td>0</td>\n",
       "      <td>0</td>\n",
       "      <td>0</td>\n",
       "      <td>1</td>\n",
       "      <td>0</td>\n",
       "      <td>0</td>\n",
       "      <td>1</td>\n",
       "      <td>0</td>\n",
       "      <td>0.047226</td>\n",
       "    </tr>\n",
       "    <tr>\n",
       "      <td>1458</td>\n",
       "      <td>1830</td>\n",
       "      <td>1828</td>\n",
       "      <td>0.159878</td>\n",
       "      <td>16091</td>\n",
       "      <td>0</td>\n",
       "      <td>3</td>\n",
       "      <td>21</td>\n",
       "      <td>0</td>\n",
       "      <td>0</td>\n",
       "      <td>0</td>\n",
       "      <td>...</td>\n",
       "      <td>0</td>\n",
       "      <td>0</td>\n",
       "      <td>0</td>\n",
       "      <td>0</td>\n",
       "      <td>0</td>\n",
       "      <td>1</td>\n",
       "      <td>0</td>\n",
       "      <td>1</td>\n",
       "      <td>0</td>\n",
       "      <td>0.188895</td>\n",
       "    </tr>\n",
       "    <tr>\n",
       "      <td>2038</td>\n",
       "      <td>1800</td>\n",
       "      <td>1758</td>\n",
       "      <td>0.159878</td>\n",
       "      <td>16099</td>\n",
       "      <td>0</td>\n",
       "      <td>4</td>\n",
       "      <td>29</td>\n",
       "      <td>0</td>\n",
       "      <td>0</td>\n",
       "      <td>0</td>\n",
       "      <td>...</td>\n",
       "      <td>1</td>\n",
       "      <td>0</td>\n",
       "      <td>0</td>\n",
       "      <td>0</td>\n",
       "      <td>0</td>\n",
       "      <td>1</td>\n",
       "      <td>0</td>\n",
       "      <td>1</td>\n",
       "      <td>0</td>\n",
       "      <td>0.081289</td>\n",
       "    </tr>\n",
       "  </tbody>\n",
       "</table>\n",
       "<p>5 rows × 21 columns</p>\n",
       "</div>"
      ],
      "text/plain": [
       "      schedtime  deptime  distance_s  numdays_dt  weather  dayweek  daymonth  \\\n",
       "1276       1645     1641    1.211419       16089        0        1        19   \n",
       "1446        630      630    0.159878       16091        0        3        21   \n",
       "335         600      558    0.084768       16076        0        2         6   \n",
       "1458       1830     1828    0.159878       16091        0        3        21   \n",
       "2038       1800     1758    0.159878       16099        0        4        29   \n",
       "\n",
       "      carrier_CO  carrier_DH  carrier_MQ  ...  carrier_US  carrier_RU  \\\n",
       "1276           0           1           0  ...           0           0   \n",
       "1446           0           0           0  ...           0           0   \n",
       "335            0           0           1  ...           0           0   \n",
       "1458           0           0           0  ...           0           0   \n",
       "2038           0           0           0  ...           1           0   \n",
       "\n",
       "      carrier_UA  dest_EWR  dest_JFK  dest_LGA  origin_BWI  origin_DCA  \\\n",
       "1276           0         0         1         0           0           0   \n",
       "1446           0         0         0         1           0           1   \n",
       "335            0         0         1         0           0           1   \n",
       "1458           0         0         0         1           0           1   \n",
       "2038           0         0         0         1           0           1   \n",
       "\n",
       "      origin_IAD  probabilities_1  \n",
       "1276           1         0.169129  \n",
       "1446           0         0.125444  \n",
       "335            0         0.047226  \n",
       "1458           0         0.188895  \n",
       "2038           0         0.081289  \n",
       "\n",
       "[5 rows x 21 columns]"
      ]
     },
     "execution_count": 32,
     "metadata": {},
     "output_type": "execute_result"
    }
   ],
   "source": [
    "# Add predictions to x_train and y_train sets\n",
    "x_testx = x_test.copy()\n",
    "x_testx['probabilities_1'] = x_test_probs[:,1]\n",
    "x_testx.head()"
   ]
  },
  {
   "cell_type": "markdown",
   "metadata": {},
   "source": [
    "### Question 7: ROC Curves\n",
    "The AUC for the training and test data are 0.8528 and 0.8256, respectively. The test set AUC is lower than the training set AUC, indicating a slight overfit. However the difference is only 0.0272, which is less than 0.03. Therefore, the model is adequate and neither over nor under fit."
   ]
  },
  {
   "cell_type": "code",
   "execution_count": 33,
   "metadata": {},
   "outputs": [
    {
     "data": {
      "image/png": "[encoded data removed]",
      "text/plain": [
       "<Figure size 432x288 with 1 Axes>"
      ]
     },
     "metadata": {
      "needs_background": "light"
     },
     "output_type": "display_data"
    }
   ],
   "source": [
    "# Visualize these ROC curves with matplotlib\n",
    "\n",
    "plt.plot(roc_curve(y_train['delay_delayed'], x_trainx['probabilities_1'])[0],roc_curve(y_train['delay_delayed'], x_trainx['probabilities_1'])[1], \n",
    "         color = 'blue', label='Train ROC Curve (area = %0.2f)' % roc_auc_score(y_train['delay_delayed'], x_trainx['probabilities_1']))\n",
    "\n",
    "plt.plot(roc_curve(y_test['delay_delayed'], x_testx['probabilities_1'])[0],roc_curve(y_test['delay_delayed'], x_testx['probabilities_1'])[1], \n",
    "         color = 'red', label='Test ROC Curve (area = %0.2f)' % roc_auc_score(y_test['delay_delayed'], x_testx['probabilities_1']))\n",
    "\n",
    "\n",
    "plt.plot([0, 1], [0, 1], color='black', linestyle='--')\n",
    "plt.xlim([0.0, 1.0])\n",
    "plt.ylim([0.0, 1.05])\n",
    "plt.xlabel('False Positive Rate')\n",
    "plt.ylabel('True Positive Rate')\n",
    "plt.title('Flight Delays AUC')\n",
    "plt.legend()\n",
    "plt.show()"
   ]
  },
  {
   "cell_type": "code",
   "execution_count": 34,
   "metadata": {},
   "outputs": [
    {
     "data": {
      "text/plain": [
       "0.8528259927561707"
      ]
     },
     "execution_count": 34,
     "metadata": {},
     "output_type": "execute_result"
    }
   ],
   "source": [
    "# Calculate the AUC for the training data\n",
    "fpr, tpr, thresholds = metrics.roc_curve(y_train['delay_delayed'], x_trainx['probabilities_1'])\n",
    "metrics.auc(fpr, tpr)"
   ]
  },
  {
   "cell_type": "code",
   "execution_count": 35,
   "metadata": {},
   "outputs": [
    {
     "data": {
      "text/plain": [
       "0.8255655954888239"
      ]
     },
     "execution_count": 35,
     "metadata": {},
     "output_type": "execute_result"
    }
   ],
   "source": [
    "# Calculate the AUC for the test data\n",
    "fpr, tpr, thresholds = metrics.roc_curve(y_test['delay_delayed'], x_testx['probabilities_1'])\n",
    "metrics.auc(fpr, tpr)"
   ]
  },
  {
   "cell_type": "code",
   "execution_count": 36,
   "metadata": {},
   "outputs": [
    {
     "data": {
      "text/plain": [
       "0.027200000000000002"
      ]
     },
     "execution_count": 36,
     "metadata": {},
     "output_type": "execute_result"
    }
   ],
   "source": [
    "# The difference between the training and test set AUC measures\n",
    "0.8528 - 0.8256"
   ]
  },
  {
   "cell_type": "markdown",
   "metadata": {},
   "source": [
    "### Question 8: Confusion Matrix and Metrics"
   ]
  },
  {
   "cell_type": "code",
   "execution_count": 448,
   "metadata": {},
   "outputs": [],
   "source": [
    "def Find_Optimal_Cutoff(target, predicted):\n",
    "    \"\"\" Find the optimal probability cutoff point for a classification model related to event rate\n",
    "    Parameters\n",
    "    ----------\n",
    "    target : Matrix with dependent or target data, where rows are observations\n",
    "\n",
    "    predicted : Matrix with predicted data, where rows are observations\n",
    "\n",
    "    Returns\n",
    "    -------     \n",
    "    list type, with optimal cutoff value\n",
    "\n",
    "    \"\"\"\n",
    "    fpr, tpr, threshold = roc_curve(target, predicted)\n",
    "    i = np.arange(len(tpr)) \n",
    "    roc = pd.DataFrame({'tf' : pd.Series(tpr-(1-fpr), index=i), 'threshold' : pd.Series(threshold, index=i)})\n",
    "    roc_t = roc.ix[(roc.tf-0).abs().argsort()[:1]]\n",
    "\n",
    "    return list(roc_t['threshold'])\n"
   ]
  },
  {
   "cell_type": "code",
   "execution_count": 449,
   "metadata": {},
   "outputs": [
    {
     "name": "stdout",
     "output_type": "stream",
     "text": [
      "[0.16669450578658415]\n"
     ]
    }
   ],
   "source": [
    "# Find optimal probability threshold\n",
    "threshold = Find_Optimal_Cutoff(y_test['delay_delayed'], x_testx['probabilities_1'])\n",
    "print(threshold)"
   ]
  },
  {
   "cell_type": "code",
   "execution_count": 450,
   "metadata": {},
   "outputs": [],
   "source": [
    "# Predict response (delays) from model probabilities (x_test[predictions_1]) and the chosen threshold\n",
    "x_testx['resp'] = x_testx['probabilities_1'].map(lambda x: 1 if x > 0.1667 else 0)"
   ]
  },
  {
   "cell_type": "code",
   "execution_count": 451,
   "metadata": {},
   "outputs": [
    {
     "data": {
      "text/html": [
       "<div>\n",
       "<style scoped>\n",
       "    .dataframe tbody tr th:only-of-type {\n",
       "        vertical-align: middle;\n",
       "    }\n",
       "\n",
       "    .dataframe tbody tr th {\n",
       "        vertical-align: top;\n",
       "    }\n",
       "\n",
       "    .dataframe thead th {\n",
       "        text-align: right;\n",
       "    }\n",
       "</style>\n",
       "<table border=\"1\" class=\"dataframe\">\n",
       "  <thead>\n",
       "    <tr style=\"text-align: right;\">\n",
       "      <th>Predicted</th>\n",
       "      <th>0</th>\n",
       "      <th>1</th>\n",
       "      <th>All</th>\n",
       "    </tr>\n",
       "    <tr>\n",
       "      <th>True</th>\n",
       "      <th></th>\n",
       "      <th></th>\n",
       "      <th></th>\n",
       "    </tr>\n",
       "  </thead>\n",
       "  <tbody>\n",
       "    <tr>\n",
       "      <td>0</td>\n",
       "      <td>252</td>\n",
       "      <td>107</td>\n",
       "      <td>359</td>\n",
       "    </tr>\n",
       "    <tr>\n",
       "      <td>1</td>\n",
       "      <td>21</td>\n",
       "      <td>61</td>\n",
       "      <td>82</td>\n",
       "    </tr>\n",
       "    <tr>\n",
       "      <td>All</td>\n",
       "      <td>273</td>\n",
       "      <td>168</td>\n",
       "      <td>441</td>\n",
       "    </tr>\n",
       "  </tbody>\n",
       "</table>\n",
       "</div>"
      ],
      "text/plain": [
       "Predicted    0    1  All\n",
       "True                    \n",
       "0          252  107  359\n",
       "1           21   61   82\n",
       "All        273  168  441"
      ]
     },
     "execution_count": 451,
     "metadata": {},
     "output_type": "execute_result"
    }
   ],
   "source": [
    "# Create confusion matrix\n",
    "pd.crosstab(y_test['delay_delayed'], x_testx['resp'],\n",
    "            rownames=['True'], colnames=['Predicted'], margins=True)"
   ]
  },
  {
   "cell_type": "markdown",
   "metadata": {},
   "source": [
    "#### Sensitivity (Recall)"
   ]
  },
  {
   "cell_type": "code",
   "execution_count": 452,
   "metadata": {},
   "outputs": [
    {
     "data": {
      "text/plain": [
       "0.7439024390243902"
      ]
     },
     "execution_count": 452,
     "metadata": {},
     "output_type": "execute_result"
    }
   ],
   "source": [
    "61/(61+21)"
   ]
  },
  {
   "cell_type": "markdown",
   "metadata": {},
   "source": [
    "#### Specificity"
   ]
  },
  {
   "cell_type": "code",
   "execution_count": 453,
   "metadata": {},
   "outputs": [
    {
     "data": {
      "text/plain": [
       "0.7019498607242339"
      ]
     },
     "execution_count": 453,
     "metadata": {},
     "output_type": "execute_result"
    }
   ],
   "source": [
    "252/(252+107)"
   ]
  },
  {
   "cell_type": "markdown",
   "metadata": {},
   "source": [
    "#### Positive Predictive Value (PPV) (Precision)"
   ]
  },
  {
   "cell_type": "code",
   "execution_count": 454,
   "metadata": {},
   "outputs": [
    {
     "data": {
      "text/plain": [
       "0.3630952380952381"
      ]
     },
     "execution_count": 454,
     "metadata": {},
     "output_type": "execute_result"
    }
   ],
   "source": [
    "61/(61+107)"
   ]
  },
  {
   "cell_type": "markdown",
   "metadata": {},
   "source": [
    "#### Negative Predictive Value (NPV)"
   ]
  },
  {
   "cell_type": "code",
   "execution_count": 455,
   "metadata": {},
   "outputs": [
    {
     "data": {
      "text/plain": [
       "0.9230769230769231"
      ]
     },
     "execution_count": 455,
     "metadata": {},
     "output_type": "execute_result"
    }
   ],
   "source": [
    "252/(252+21)"
   ]
  },
  {
   "cell_type": "markdown",
   "metadata": {},
   "source": [
    "#### F1 Score"
   ]
  },
  {
   "cell_type": "code",
   "execution_count": 456,
   "metadata": {},
   "outputs": [
    {
     "data": {
      "text/plain": [
       "0.488003775971093"
      ]
     },
     "execution_count": 456,
     "metadata": {},
     "output_type": "execute_result"
    }
   ],
   "source": [
    "(2*0.3631*0.7439)/(0.3631+0.7439)"
   ]
  },
  {
   "cell_type": "markdown",
   "metadata": {},
   "source": [
    "#### Accuracy"
   ]
  },
  {
   "cell_type": "code",
   "execution_count": 457,
   "metadata": {},
   "outputs": [
    {
     "data": {
      "text/plain": [
       "0.7097505668934241"
      ]
     },
     "execution_count": 457,
     "metadata": {},
     "output_type": "execute_result"
    }
   ],
   "source": [
    "(61+252)/441"
   ]
  },
  {
   "cell_type": "markdown",
   "metadata": {},
   "source": [
    "### Question 9: KKN\n",
    "The logistic regression model and the KNN model perform equally well:\n",
    "\n",
    "--Training AUC=0.8528 for logistic and training AUC=0.8556 for KNN\n",
    "\n",
    "--Test AUC=0.8256 for both logistic and KNN"
   ]
  },
  {
   "cell_type": "code",
   "execution_count": 458,
   "metadata": {},
   "outputs": [
    {
     "data": {
      "text/plain": [
       "numpy.ndarray"
      ]
     },
     "execution_count": 458,
     "metadata": {},
     "output_type": "execute_result"
    }
   ],
   "source": [
    "# Convert x_train, x_test, y_train['delay_delayed'], and y_test['delay_delayed'] to numpy arrays\n",
    "x_train_arry = x_train.values\n",
    "x_test_arry = x_test.values\n",
    "type(x_train_arry)"
   ]
  },
  {
   "cell_type": "code",
   "execution_count": 459,
   "metadata": {},
   "outputs": [],
   "source": [
    "# Train the learner\n",
    "knn_clf = neighbors.KNeighborsClassifier(3, weights = 'uniform')"
   ]
  },
  {
   "cell_type": "code",
   "execution_count": 460,
   "metadata": {},
   "outputs": [],
   "source": [
    "knn_model = clf.fit(x_train_arry, y_train['delay_delayed'])"
   ]
  },
  {
   "cell_type": "code",
   "execution_count": 461,
   "metadata": {},
   "outputs": [
    {
     "data": {
      "text/plain": [
       "0.8863636363636364"
      ]
     },
     "execution_count": 461,
     "metadata": {},
     "output_type": "execute_result"
    }
   ],
   "source": [
    "# Accuracy on training data\n",
    "knn_model.score(x_train_arry, y_train['delay_delayed'])"
   ]
  },
  {
   "cell_type": "code",
   "execution_count": 462,
   "metadata": {},
   "outputs": [
    {
     "data": {
      "text/plain": [
       "0.8843537414965986"
      ]
     },
     "execution_count": 462,
     "metadata": {},
     "output_type": "execute_result"
    }
   ],
   "source": [
    "# Accuracy on test data\n",
    "knn_model.score(x_test_arry, y_test['delay_delayed'])"
   ]
  },
  {
   "cell_type": "code",
   "execution_count": 463,
   "metadata": {},
   "outputs": [
    {
     "data": {
      "text/plain": [
       "array([[0.83087165, 0.16912835],\n",
       "       [0.87455525, 0.12544475],\n",
       "       [0.95277395, 0.04722605],\n",
       "       [0.81110418, 0.18889582],\n",
       "       [0.91871029, 0.08128971],\n",
       "       [0.93256031, 0.06743969],\n",
       "       [0.83251587, 0.16748413],\n",
       "       [0.93181341, 0.06818659],\n",
       "       [0.85222165, 0.14777835],\n",
       "       [0.61952707, 0.38047293],\n",
       "       [0.93592327, 0.06407673],\n",
       "       [0.82363293, 0.17636707],\n",
       "       [0.93090792, 0.06909208],\n",
       "       [0.82839531, 0.17160469],\n",
       "       [0.58961749, 0.41038251],\n",
       "       [0.87368312, 0.12631688],\n",
       "       [0.751479  , 0.248521  ],\n",
       "       [0.69881516, 0.30118484],\n",
       "       [0.88056757, 0.11943243],\n",
       "       [0.92841378, 0.07158622],\n",
       "       [0.83752236, 0.16247764],\n",
       "       [0.83266687, 0.16733313],\n",
       "       [0.95340864, 0.04659136],\n",
       "       [0.82743373, 0.17256627],\n",
       "       [0.81024173, 0.18975827],\n",
       "       [0.87520373, 0.12479627],\n",
       "       [0.88499189, 0.11500811],\n",
       "       [0.53641136, 0.46358864],\n",
       "       [0.86399611, 0.13600389],\n",
       "       [0.93505172, 0.06494828],\n",
       "       [0.87705337, 0.12294663],\n",
       "       [0.70385418, 0.29614582],\n",
       "       [0.95465151, 0.04534849],\n",
       "       [0.8870786 , 0.1129214 ],\n",
       "       [0.10790066, 0.89209934],\n",
       "       [0.92825357, 0.07174643],\n",
       "       [0.92498622, 0.07501378],\n",
       "       [0.84695495, 0.15304505],\n",
       "       [0.92257116, 0.07742884],\n",
       "       [0.82669577, 0.17330423],\n",
       "       [0.82974896, 0.17025104],\n",
       "       [0.83330549, 0.16669451],\n",
       "       [0.91503231, 0.08496769],\n",
       "       [0.18267764, 0.81732236],\n",
       "       [0.79952483, 0.20047517],\n",
       "       [0.83683683, 0.16316317],\n",
       "       [0.76447466, 0.23552534],\n",
       "       [0.77172613, 0.22827387],\n",
       "       [0.87804251, 0.12195749],\n",
       "       [0.81246022, 0.18753978],\n",
       "       [0.27822654, 0.72177346],\n",
       "       [0.85825273, 0.14174727],\n",
       "       [0.84678286, 0.15321714],\n",
       "       [0.78653148, 0.21346852],\n",
       "       [0.84096679, 0.15903321],\n",
       "       [0.86636984, 0.13363016],\n",
       "       [0.94388874, 0.05611126],\n",
       "       [0.5832474 , 0.4167526 ],\n",
       "       [0.62564153, 0.37435847],\n",
       "       [0.77492843, 0.22507157],\n",
       "       [0.84179457, 0.15820543],\n",
       "       [0.92961521, 0.07038479],\n",
       "       [0.91469483, 0.08530517],\n",
       "       [0.82162974, 0.17837026],\n",
       "       [0.91887039, 0.08112961],\n",
       "       [0.80355211, 0.19644789],\n",
       "       [0.94987377, 0.05012623],\n",
       "       [0.82720995, 0.17279005],\n",
       "       [0.79817872, 0.20182128],\n",
       "       [0.81842521, 0.18157479],\n",
       "       [0.93642442, 0.06357558],\n",
       "       [0.80616212, 0.19383788],\n",
       "       [0.83605457, 0.16394543],\n",
       "       [0.84920216, 0.15079784],\n",
       "       [0.04829503, 0.95170497],\n",
       "       [0.87253971, 0.12746029],\n",
       "       [0.87739984, 0.12260016],\n",
       "       [0.83291093, 0.16708907],\n",
       "       [0.87340727, 0.12659273],\n",
       "       [0.93569237, 0.06430763],\n",
       "       [0.92097546, 0.07902454],\n",
       "       [0.617696  , 0.382304  ],\n",
       "       [0.92355799, 0.07644201],\n",
       "       [0.82660911, 0.17339089],\n",
       "       [0.84518303, 0.15481697],\n",
       "       [0.92170729, 0.07829271],\n",
       "       [0.83638601, 0.16361399],\n",
       "       [0.94411317, 0.05588683],\n",
       "       [0.66645047, 0.33354953],\n",
       "       [0.91960226, 0.08039774],\n",
       "       [0.93408501, 0.06591499],\n",
       "       [0.92839703, 0.07160297],\n",
       "       [0.80221658, 0.19778342],\n",
       "       [0.83037991, 0.16962009],\n",
       "       [0.7947067 , 0.2052933 ],\n",
       "       [0.92342263, 0.07657737],\n",
       "       [0.77568196, 0.22431804],\n",
       "       [0.86251029, 0.13748971],\n",
       "       [0.83367148, 0.16632852],\n",
       "       [0.92801282, 0.07198718],\n",
       "       [0.84864589, 0.15135411],\n",
       "       [0.8727798 , 0.1272202 ],\n",
       "       [0.34769308, 0.65230692],\n",
       "       [0.83197926, 0.16802074],\n",
       "       [0.76941107, 0.23058893],\n",
       "       [0.82393178, 0.17606822],\n",
       "       [0.92919022, 0.07080978],\n",
       "       [0.61665134, 0.38334866],\n",
       "       [0.83323476, 0.16676524],\n",
       "       [0.87025396, 0.12974604],\n",
       "       [0.87980596, 0.12019404],\n",
       "       [0.9470194 , 0.0529806 ],\n",
       "       [0.93332455, 0.06667545],\n",
       "       [0.94420503, 0.05579497],\n",
       "       [0.93269681, 0.06730319],\n",
       "       [0.81388153, 0.18611847],\n",
       "       [0.9308015 , 0.0691985 ],\n",
       "       [0.9441163 , 0.0558837 ],\n",
       "       [0.81300194, 0.18699806],\n",
       "       [0.940381  , 0.059619  ],\n",
       "       [0.78671866, 0.21328134],\n",
       "       [0.88064454, 0.11935546],\n",
       "       [0.84227622, 0.15772378],\n",
       "       [0.9188537 , 0.0811463 ],\n",
       "       [0.94431936, 0.05568064],\n",
       "       [0.9344817 , 0.0655183 ],\n",
       "       [0.8354025 , 0.1645975 ],\n",
       "       [0.95386056, 0.04613944],\n",
       "       [0.93493653, 0.06506347],\n",
       "       [0.84014771, 0.15985229],\n",
       "       [0.84603342, 0.15396658],\n",
       "       [0.94801217, 0.05198783],\n",
       "       [0.82022871, 0.17977129],\n",
       "       [0.79818739, 0.20181261],\n",
       "       [0.88041472, 0.11958528],\n",
       "       [0.93272399, 0.06727601],\n",
       "       [0.6147656 , 0.3852344 ],\n",
       "       [0.49650325, 0.50349675],\n",
       "       [0.83720398, 0.16279602],\n",
       "       [0.56703565, 0.43296435],\n",
       "       [0.94891714, 0.05108286],\n",
       "       [0.94591317, 0.05408683],\n",
       "       [0.93117126, 0.06882874],\n",
       "       [0.72249219, 0.27750781],\n",
       "       [0.93357979, 0.06642021],\n",
       "       [0.75087382, 0.24912618],\n",
       "       [0.87652456, 0.12347544],\n",
       "       [0.84653975, 0.15346025],\n",
       "       [0.79319589, 0.20680411],\n",
       "       [0.80638064, 0.19361936],\n",
       "       [0.93233054, 0.06766946],\n",
       "       [0.63220083, 0.36779917],\n",
       "       [0.86108608, 0.13891392],\n",
       "       [0.86964921, 0.13035079],\n",
       "       [0.25059828, 0.74940172],\n",
       "       [0.78886771, 0.21113229],\n",
       "       [0.91947215, 0.08052785],\n",
       "       [0.9503508 , 0.0496492 ],\n",
       "       [0.84468985, 0.15531015],\n",
       "       [0.85168932, 0.14831068],\n",
       "       [0.94843572, 0.05156428],\n",
       "       [0.92594752, 0.07405248],\n",
       "       [0.81084186, 0.18915814],\n",
       "       [0.87629073, 0.12370927],\n",
       "       [0.87341414, 0.12658586],\n",
       "       [0.95064538, 0.04935462],\n",
       "       [0.93246541, 0.06753459],\n",
       "       [0.81766188, 0.18233812],\n",
       "       [0.9244169 , 0.0755831 ],\n",
       "       [0.86206409, 0.13793591],\n",
       "       [0.63509444, 0.36490556],\n",
       "       [0.8006188 , 0.1993812 ],\n",
       "       [0.93934687, 0.06065313],\n",
       "       [0.9412633 , 0.0587367 ],\n",
       "       [0.87394375, 0.12605625],\n",
       "       [0.91643902, 0.08356098],\n",
       "       [0.93713331, 0.06286669],\n",
       "       [0.84672802, 0.15327198],\n",
       "       [0.93153986, 0.06846014],\n",
       "       [0.19938899, 0.80061101],\n",
       "       [0.36054477, 0.63945523],\n",
       "       [0.38787679, 0.61212321],\n",
       "       [0.86462367, 0.13537633],\n",
       "       [0.93771154, 0.06228846],\n",
       "       [0.9574463 , 0.0425537 ],\n",
       "       [0.80955211, 0.19044789],\n",
       "       [0.9248337 , 0.0751663 ],\n",
       "       [0.93982648, 0.06017352],\n",
       "       [0.79707104, 0.20292896],\n",
       "       [0.89320714, 0.10679286],\n",
       "       [0.82366384, 0.17633616],\n",
       "       [0.8844286 , 0.1155714 ],\n",
       "       [0.93818884, 0.06181116],\n",
       "       [0.93383157, 0.06616843],\n",
       "       [0.916715  , 0.083285  ],\n",
       "       [0.91872778, 0.08127222],\n",
       "       [0.23103407, 0.76896593],\n",
       "       [0.83900031, 0.16099969],\n",
       "       [0.82595507, 0.17404493],\n",
       "       [0.85308654, 0.14691346],\n",
       "       [0.15992541, 0.84007459],\n",
       "       [0.84627332, 0.15372668],\n",
       "       [0.91656412, 0.08343588],\n",
       "       [0.83128362, 0.16871638],\n",
       "       [0.36995264, 0.63004736],\n",
       "       [0.83735155, 0.16264845],\n",
       "       [0.92692835, 0.07307165],\n",
       "       [0.86466272, 0.13533728],\n",
       "       [0.86847834, 0.13152166],\n",
       "       [0.73647849, 0.26352151],\n",
       "       [0.82747258, 0.17252742],\n",
       "       [0.80165707, 0.19834293],\n",
       "       [0.91018217, 0.08981783],\n",
       "       [0.82520979, 0.17479021],\n",
       "       [0.9168807 , 0.0831193 ],\n",
       "       [0.84684519, 0.15315481],\n",
       "       [0.81605764, 0.18394236],\n",
       "       [0.02801851, 0.97198149],\n",
       "       [0.81785333, 0.18214667],\n",
       "       [0.87714242, 0.12285758],\n",
       "       [0.86212366, 0.13787634],\n",
       "       [0.87564783, 0.12435217],\n",
       "       [0.34166954, 0.65833046],\n",
       "       [0.84297995, 0.15702005],\n",
       "       [0.95224024, 0.04775976],\n",
       "       [0.84067405, 0.15932595],\n",
       "       [0.94620881, 0.05379119],\n",
       "       [0.83189853, 0.16810147],\n",
       "       [0.80984641, 0.19015359],\n",
       "       [0.81353382, 0.18646618],\n",
       "       [0.94103654, 0.05896346],\n",
       "       [0.84241567, 0.15758433],\n",
       "       [0.93947254, 0.06052746],\n",
       "       [0.76730812, 0.23269188],\n",
       "       [0.86061265, 0.13938735],\n",
       "       [0.4045475 , 0.5954525 ],\n",
       "       [0.93219681, 0.06780319],\n",
       "       [0.64364827, 0.35635173],\n",
       "       [0.74912972, 0.25087028],\n",
       "       [0.89028708, 0.10971292],\n",
       "       [0.91469391, 0.08530609],\n",
       "       [0.83705802, 0.16294198],\n",
       "       [0.83278367, 0.16721633],\n",
       "       [0.81540085, 0.18459915],\n",
       "       [0.93243767, 0.06756233],\n",
       "       [0.92224428, 0.07775572],\n",
       "       [0.84147695, 0.15852305],\n",
       "       [0.82727755, 0.17272245],\n",
       "       [0.81913395, 0.18086605],\n",
       "       [0.92411371, 0.07588629],\n",
       "       [0.46484947, 0.53515053],\n",
       "       [0.95728943, 0.04271057],\n",
       "       [0.80420242, 0.19579758],\n",
       "       [0.94870419, 0.05129581],\n",
       "       [0.87980638, 0.12019362],\n",
       "       [0.81569366, 0.18430634],\n",
       "       [0.81738211, 0.18261789],\n",
       "       [0.82953088, 0.17046912],\n",
       "       [0.82357702, 0.17642298],\n",
       "       [0.94072823, 0.05927177],\n",
       "       [0.84066324, 0.15933676],\n",
       "       [0.84322017, 0.15677983],\n",
       "       [0.81540634, 0.18459366],\n",
       "       [0.92182604, 0.07817396],\n",
       "       [0.94811724, 0.05188276],\n",
       "       [0.88272352, 0.11727648],\n",
       "       [0.84147976, 0.15852024],\n",
       "       [0.8336803 , 0.1663197 ],\n",
       "       [0.936168  , 0.063832  ],\n",
       "       [0.73781388, 0.26218612],\n",
       "       [0.9420412 , 0.0579588 ],\n",
       "       [0.79829175, 0.20170825],\n",
       "       [0.91452274, 0.08547726],\n",
       "       [0.81310319, 0.18689681],\n",
       "       [0.80866163, 0.19133837],\n",
       "       [0.93922502, 0.06077498],\n",
       "       [0.94731523, 0.05268477],\n",
       "       [0.53801814, 0.46198186],\n",
       "       [0.94391378, 0.05608622],\n",
       "       [0.86747114, 0.13252886],\n",
       "       [0.83044221, 0.16955779],\n",
       "       [0.95093801, 0.04906199],\n",
       "       [0.85173488, 0.14826512],\n",
       "       [0.82496098, 0.17503902],\n",
       "       [0.84587925, 0.15412075],\n",
       "       [0.92483432, 0.07516568],\n",
       "       [0.84313479, 0.15686521],\n",
       "       [0.80403836, 0.19596164],\n",
       "       [0.86517045, 0.13482955],\n",
       "       [0.79559102, 0.20440898],\n",
       "       [0.83834499, 0.16165501],\n",
       "       [0.33940766, 0.66059234],\n",
       "       [0.01365208, 0.98634792],\n",
       "       [0.82944685, 0.17055315],\n",
       "       [0.92093962, 0.07906038],\n",
       "       [0.92239413, 0.07760587],\n",
       "       [0.94948841, 0.05051159],\n",
       "       [0.94172495, 0.05827505],\n",
       "       [0.83999386, 0.16000614],\n",
       "       [0.91150652, 0.08849348],\n",
       "       [0.59112187, 0.40887813],\n",
       "       [0.83025997, 0.16974003],\n",
       "       [0.75021096, 0.24978904],\n",
       "       [0.93900677, 0.06099323],\n",
       "       [0.94270723, 0.05729277],\n",
       "       [0.92868276, 0.07131724],\n",
       "       [0.83503028, 0.16496972],\n",
       "       [0.93369886, 0.06630114],\n",
       "       [0.87780172, 0.12219828],\n",
       "       [0.94139409, 0.05860591],\n",
       "       [0.92525493, 0.07474507],\n",
       "       [0.82430814, 0.17569186],\n",
       "       [0.87211163, 0.12788837],\n",
       "       [0.81452631, 0.18547369],\n",
       "       [0.81137701, 0.18862299],\n",
       "       [0.79149779, 0.20850221],\n",
       "       [0.93923729, 0.06076271],\n",
       "       [0.37049965, 0.62950035],\n",
       "       [0.88605281, 0.11394719],\n",
       "       [0.83631782, 0.16368218],\n",
       "       [0.84728184, 0.15271816],\n",
       "       [0.78739377, 0.21260623],\n",
       "       [0.69707782, 0.30292218],\n",
       "       [0.77239968, 0.22760032],\n",
       "       [0.83280237, 0.16719763],\n",
       "       [0.56409238, 0.43590762],\n",
       "       [0.07723821, 0.92276179],\n",
       "       [0.82515201, 0.17484799],\n",
       "       [0.82770797, 0.17229203],\n",
       "       [0.83824114, 0.16175886],\n",
       "       [0.85738279, 0.14261721],\n",
       "       [0.83834865, 0.16165135],\n",
       "       [0.85163735, 0.14836265],\n",
       "       [0.83117873, 0.16882127],\n",
       "       [0.93714659, 0.06285341],\n",
       "       [0.86729361, 0.13270639],\n",
       "       [0.82227532, 0.17772468],\n",
       "       [0.78235855, 0.21764145],\n",
       "       [0.91868852, 0.08131148],\n",
       "       [0.86140701, 0.13859299],\n",
       "       [0.86965274, 0.13034726],\n",
       "       [0.96153307, 0.03846693],\n",
       "       [0.82871704, 0.17128296],\n",
       "       [0.82594311, 0.17405689],\n",
       "       [0.88311623, 0.11688377],\n",
       "       [0.85094534, 0.14905466],\n",
       "       [0.85069786, 0.14930214],\n",
       "       [0.92635803, 0.07364197],\n",
       "       [0.93544558, 0.06455442],\n",
       "       [0.78961079, 0.21038921],\n",
       "       [0.15947466, 0.84052534],\n",
       "       [0.95394913, 0.04605087],\n",
       "       [0.92959832, 0.07040168],\n",
       "       [0.75299499, 0.24700501],\n",
       "       [0.93912794, 0.06087206],\n",
       "       [0.82200058, 0.17799942],\n",
       "       [0.82731335, 0.17268665],\n",
       "       [0.92267374, 0.07732626],\n",
       "       [0.4890242 , 0.5109758 ],\n",
       "       [0.03201384, 0.96798616],\n",
       "       [0.84929758, 0.15070242],\n",
       "       [0.8560048 , 0.1439952 ],\n",
       "       [0.92004505, 0.07995495],\n",
       "       [0.8471916 , 0.1528084 ],\n",
       "       [0.9416075 , 0.0583925 ],\n",
       "       [0.95251385, 0.04748615],\n",
       "       [0.89044429, 0.10955571],\n",
       "       [0.92866753, 0.07133247],\n",
       "       [0.9535142 , 0.0464858 ],\n",
       "       [0.88457039, 0.11542961],\n",
       "       [0.15944484, 0.84055516],\n",
       "       [0.8506681 , 0.1493319 ],\n",
       "       [0.84704755, 0.15295245],\n",
       "       [0.93195178, 0.06804822],\n",
       "       [0.47927577, 0.52072423],\n",
       "       [0.89468016, 0.10531984],\n",
       "       [0.81946525, 0.18053475],\n",
       "       [0.94871516, 0.05128484],\n",
       "       [0.87047081, 0.12952919],\n",
       "       [0.71524053, 0.28475947],\n",
       "       [0.84625344, 0.15374656],\n",
       "       [0.8359776 , 0.1640224 ],\n",
       "       [0.94640268, 0.05359732],\n",
       "       [0.83436572, 0.16563428],\n",
       "       [0.9274649 , 0.0725351 ],\n",
       "       [0.9486228 , 0.0513772 ],\n",
       "       [0.85672607, 0.14327393],\n",
       "       [0.93245336, 0.06754664],\n",
       "       [0.85619088, 0.14380912],\n",
       "       [0.92385937, 0.07614063],\n",
       "       [0.2411478 , 0.7588522 ],\n",
       "       [0.78245718, 0.21754282],\n",
       "       [0.78461965, 0.21538035],\n",
       "       [0.34801629, 0.65198371],\n",
       "       [0.8741067 , 0.1258933 ],\n",
       "       [0.9426015 , 0.0573985 ],\n",
       "       [0.92080109, 0.07919891],\n",
       "       [0.87651759, 0.12348241],\n",
       "       [0.94410518, 0.05589482],\n",
       "       [0.92825163, 0.07174837],\n",
       "       [0.84138954, 0.15861046],\n",
       "       [0.26377722, 0.73622278],\n",
       "       [0.87683572, 0.12316428],\n",
       "       [0.87891537, 0.12108463],\n",
       "       [0.84570524, 0.15429476],\n",
       "       [0.86399852, 0.13600148],\n",
       "       [0.84734304, 0.15265696],\n",
       "       [0.80189509, 0.19810491],\n",
       "       [0.84616986, 0.15383014],\n",
       "       [0.87344318, 0.12655682],\n",
       "       [0.91764293, 0.08235707],\n",
       "       [0.7195724 , 0.2804276 ],\n",
       "       [0.80828829, 0.19171171],\n",
       "       [0.9383256 , 0.0616744 ],\n",
       "       [0.87121414, 0.12878586],\n",
       "       [0.80615589, 0.19384411],\n",
       "       [0.84360942, 0.15639058],\n",
       "       [0.9341862 , 0.0658138 ],\n",
       "       [0.81113826, 0.18886174],\n",
       "       [0.79557497, 0.20442503],\n",
       "       [0.40172379, 0.59827621],\n",
       "       [0.86140329, 0.13859671],\n",
       "       [0.93958165, 0.06041835],\n",
       "       [0.85392311, 0.14607689],\n",
       "       [0.7964847 , 0.2035153 ],\n",
       "       [0.61095362, 0.38904638],\n",
       "       [0.87415874, 0.12584126],\n",
       "       [0.02835394, 0.97164606],\n",
       "       [0.93066145, 0.06933855],\n",
       "       [0.54152908, 0.45847092],\n",
       "       [0.58925428, 0.41074572],\n",
       "       [0.87170192, 0.12829808],\n",
       "       [0.87073812, 0.12926188],\n",
       "       [0.87547685, 0.12452315],\n",
       "       [0.94117018, 0.05882982],\n",
       "       [0.74283392, 0.25716608],\n",
       "       [0.88393725, 0.11606275],\n",
       "       [0.81902867, 0.18097133],\n",
       "       [0.83021419, 0.16978581],\n",
       "       [0.87542747, 0.12457253],\n",
       "       [0.83642007, 0.16357993]])"
      ]
     },
     "execution_count": 463,
     "metadata": {},
     "output_type": "execute_result"
    }
   ],
   "source": [
    "# Find the probabilities produced by this model\n",
    "knn_probs_train = knn_model.predict_proba(x_train_arry)\n",
    "knn_probs_test = knn_model.predict_proba(x_test_arry)\n",
    "knn_probs_test"
   ]
  },
  {
   "cell_type": "code",
   "execution_count": 464,
   "metadata": {},
   "outputs": [],
   "source": [
    "# Produce these predictions in the dataframe\n",
    "x_trainz = x_train.copy()\n",
    "x_testz = x_test.copy()\n",
    "x_trainz['KNN_PROBS'] = knn_probs_train[:, 1]\n",
    "x_testz['KNN_PROBS'] = knn_probs_test[:, 1]\n",
    "x_testz['KNN_PREDS'] = knn_model.predict(x_test_arry)"
   ]
  },
  {
   "cell_type": "code",
   "execution_count": 465,
   "metadata": {},
   "outputs": [
    {
     "data": {
      "text/html": [
       "<div>\n",
       "<style scoped>\n",
       "    .dataframe tbody tr th:only-of-type {\n",
       "        vertical-align: middle;\n",
       "    }\n",
       "\n",
       "    .dataframe tbody tr th {\n",
       "        vertical-align: top;\n",
       "    }\n",
       "\n",
       "    .dataframe thead th {\n",
       "        text-align: right;\n",
       "    }\n",
       "</style>\n",
       "<table border=\"1\" class=\"dataframe\">\n",
       "  <thead>\n",
       "    <tr style=\"text-align: right;\">\n",
       "      <th></th>\n",
       "      <th>schedtime</th>\n",
       "      <th>deptime</th>\n",
       "      <th>distance_s</th>\n",
       "      <th>numdays_dt</th>\n",
       "      <th>weather</th>\n",
       "      <th>dayweek</th>\n",
       "      <th>daymonth</th>\n",
       "      <th>carrier_CO</th>\n",
       "      <th>carrier_DH</th>\n",
       "      <th>carrier_MQ</th>\n",
       "      <th>carrier_OH</th>\n",
       "      <th>carrier_RU</th>\n",
       "      <th>carrier_UA</th>\n",
       "      <th>dest_EWR</th>\n",
       "      <th>dest_JFK</th>\n",
       "      <th>origin_BWI</th>\n",
       "      <th>origin_DCA</th>\n",
       "      <th>KNN_PROBS</th>\n",
       "      <th>KNN_PREDS</th>\n",
       "    </tr>\n",
       "  </thead>\n",
       "  <tbody>\n",
       "    <tr>\n",
       "      <td>1276</td>\n",
       "      <td>1645</td>\n",
       "      <td>1641</td>\n",
       "      <td>1.211419</td>\n",
       "      <td>16089</td>\n",
       "      <td>0</td>\n",
       "      <td>1</td>\n",
       "      <td>19</td>\n",
       "      <td>0</td>\n",
       "      <td>1</td>\n",
       "      <td>0</td>\n",
       "      <td>0</td>\n",
       "      <td>0</td>\n",
       "      <td>0</td>\n",
       "      <td>0</td>\n",
       "      <td>1</td>\n",
       "      <td>0</td>\n",
       "      <td>0</td>\n",
       "      <td>0.169128</td>\n",
       "      <td>0</td>\n",
       "    </tr>\n",
       "    <tr>\n",
       "      <td>1446</td>\n",
       "      <td>630</td>\n",
       "      <td>630</td>\n",
       "      <td>0.159878</td>\n",
       "      <td>16091</td>\n",
       "      <td>0</td>\n",
       "      <td>3</td>\n",
       "      <td>21</td>\n",
       "      <td>0</td>\n",
       "      <td>0</td>\n",
       "      <td>0</td>\n",
       "      <td>0</td>\n",
       "      <td>0</td>\n",
       "      <td>0</td>\n",
       "      <td>0</td>\n",
       "      <td>0</td>\n",
       "      <td>0</td>\n",
       "      <td>1</td>\n",
       "      <td>0.125445</td>\n",
       "      <td>0</td>\n",
       "    </tr>\n",
       "    <tr>\n",
       "      <td>335</td>\n",
       "      <td>600</td>\n",
       "      <td>558</td>\n",
       "      <td>0.084768</td>\n",
       "      <td>16076</td>\n",
       "      <td>0</td>\n",
       "      <td>2</td>\n",
       "      <td>6</td>\n",
       "      <td>0</td>\n",
       "      <td>0</td>\n",
       "      <td>1</td>\n",
       "      <td>0</td>\n",
       "      <td>0</td>\n",
       "      <td>0</td>\n",
       "      <td>0</td>\n",
       "      <td>1</td>\n",
       "      <td>0</td>\n",
       "      <td>1</td>\n",
       "      <td>0.047226</td>\n",
       "      <td>0</td>\n",
       "    </tr>\n",
       "    <tr>\n",
       "      <td>1458</td>\n",
       "      <td>1830</td>\n",
       "      <td>1828</td>\n",
       "      <td>0.159878</td>\n",
       "      <td>16091</td>\n",
       "      <td>0</td>\n",
       "      <td>3</td>\n",
       "      <td>21</td>\n",
       "      <td>0</td>\n",
       "      <td>0</td>\n",
       "      <td>0</td>\n",
       "      <td>0</td>\n",
       "      <td>0</td>\n",
       "      <td>0</td>\n",
       "      <td>0</td>\n",
       "      <td>0</td>\n",
       "      <td>0</td>\n",
       "      <td>1</td>\n",
       "      <td>0.188896</td>\n",
       "      <td>0</td>\n",
       "    </tr>\n",
       "    <tr>\n",
       "      <td>2038</td>\n",
       "      <td>1800</td>\n",
       "      <td>1758</td>\n",
       "      <td>0.159878</td>\n",
       "      <td>16099</td>\n",
       "      <td>0</td>\n",
       "      <td>4</td>\n",
       "      <td>29</td>\n",
       "      <td>0</td>\n",
       "      <td>0</td>\n",
       "      <td>0</td>\n",
       "      <td>0</td>\n",
       "      <td>0</td>\n",
       "      <td>0</td>\n",
       "      <td>0</td>\n",
       "      <td>0</td>\n",
       "      <td>0</td>\n",
       "      <td>1</td>\n",
       "      <td>0.081290</td>\n",
       "      <td>0</td>\n",
       "    </tr>\n",
       "  </tbody>\n",
       "</table>\n",
       "</div>"
      ],
      "text/plain": [
       "      schedtime  deptime  distance_s  numdays_dt  weather  dayweek  daymonth  \\\n",
       "1276       1645     1641    1.211419       16089        0        1        19   \n",
       "1446        630      630    0.159878       16091        0        3        21   \n",
       "335         600      558    0.084768       16076        0        2         6   \n",
       "1458       1830     1828    0.159878       16091        0        3        21   \n",
       "2038       1800     1758    0.159878       16099        0        4        29   \n",
       "\n",
       "      carrier_CO  carrier_DH  carrier_MQ  carrier_OH  carrier_RU  carrier_UA  \\\n",
       "1276           0           1           0           0           0           0   \n",
       "1446           0           0           0           0           0           0   \n",
       "335            0           0           1           0           0           0   \n",
       "1458           0           0           0           0           0           0   \n",
       "2038           0           0           0           0           0           0   \n",
       "\n",
       "      dest_EWR  dest_JFK  origin_BWI  origin_DCA  KNN_PROBS  KNN_PREDS  \n",
       "1276         0         1           0           0   0.169128          0  \n",
       "1446         0         0           0           1   0.125445          0  \n",
       "335          0         1           0           1   0.047226          0  \n",
       "1458         0         0           0           1   0.188896          0  \n",
       "2038         0         0           0           1   0.081290          0  "
      ]
     },
     "execution_count": 465,
     "metadata": {},
     "output_type": "execute_result"
    }
   ],
   "source": [
    "x_testz.head()"
   ]
  },
  {
   "cell_type": "code",
   "execution_count": 466,
   "metadata": {},
   "outputs": [
    {
     "data": {
      "text/plain": [
       "0.8528259927561707"
      ]
     },
     "execution_count": 466,
     "metadata": {},
     "output_type": "execute_result"
    }
   ],
   "source": [
    "fpr, tpr, thresholds = metrics.roc_curve(y_train['delay_delayed'], x_trainz['KNN_PROBS'])\n",
    "metrics.auc(fpr, tpr)"
   ]
  },
  {
   "cell_type": "code",
   "execution_count": 484,
   "metadata": {},
   "outputs": [
    {
     "data": {
      "text/plain": [
       "0.8255655954888239"
      ]
     },
     "execution_count": 484,
     "metadata": {},
     "output_type": "execute_result"
    }
   ],
   "source": [
    "fpr, tpr, thresholds = metrics.roc_curve(y_test['delay_delayed'], x_testz['KNN_PROBS'])\n",
    "metrics.auc(fpr, tpr)"
   ]
  },
  {
   "cell_type": "code",
   "execution_count": 479,
   "metadata": {},
   "outputs": [],
   "source": [
    "# Find the best value of K for our model with cross-validation\n",
    "knn = KNeighborsClassifier(n_neighbors=5, metric='euclidean', n_jobs=-1).fit(x_trainz, y_train['delay_delayed'])"
   ]
  },
  {
   "cell_type": "code",
   "execution_count": 480,
   "metadata": {},
   "outputs": [],
   "source": [
    "# Create a pipeline\n",
    "pipe = Pipeline([('standardizer', StandardScaler()), ('knn', knn)])\n",
    "\n",
    "# Create space of candidate values\n",
    "search_space = [{'knn__n_neighbors': [1, 2, 3, 4, 5, 6, 7, 8, 9, 10]}]"
   ]
  },
  {
   "cell_type": "code",
   "execution_count": 482,
   "metadata": {},
   "outputs": [],
   "source": [
    "# Create grid search \n",
    "clf = GridSearchCV(pipe, search_space, cv=5, verbose=0).fit(x_trainz, y_train['delay_delayed'])"
   ]
  },
  {
   "cell_type": "code",
   "execution_count": 483,
   "metadata": {},
   "outputs": [
    {
     "data": {
      "text/plain": [
       "3"
      ]
     },
     "execution_count": 483,
     "metadata": {},
     "output_type": "execute_result"
    }
   ],
   "source": [
    "# Best neighborhood size (k)\n",
    "clf.best_estimator_.get_params()['knn__n_neighbors']"
   ]
  },
  {
   "cell_type": "code",
   "execution_count": 492,
   "metadata": {},
   "outputs": [
    {
     "data": {
      "image/png": "[encoded data removed]",
      "text/plain": [
       "<Figure size 432x288 with 1 Axes>"
      ]
     },
     "metadata": {
      "needs_background": "light"
     },
     "output_type": "display_data"
    }
   ],
   "source": [
    "# Visualize these ROC curves with matplotlib\n",
    "\n",
    "plt.plot(roc_curve(y_train['delay_delayed'], x_trainz['KNN_PROBS'])[0],roc_curve(y_train['delay_delayed'], x_trainz['KNN_PROBS'])[1], \n",
    "         color = 'blue', label='Train ROC Curve (area = %0.2f)' % roc_auc_score(y_train['delay_delayed'], x_trainz['KNN_PROBS']))\n",
    "\n",
    "plt.plot(roc_curve(y_test['delay_delayed'], x_testz['KNN_PROBS'])[0],roc_curve(y_test['delay_delayed'], x_testz['KNN_PROBS'])[1], \n",
    "         color = 'red', label='Test ROC Curve (area = %0.2f)' % roc_auc_score(y_test['delay_delayed'], x_testz['KNN_PROBS']))\n",
    "\n",
    "\n",
    "plt.plot([0, 1], [0, 1], color='black', linestyle='--')\n",
    "plt.xlim([0.0, 1.0])\n",
    "plt.ylim([0.0, 1.05])\n",
    "plt.xlabel('False Positive Rate')\n",
    "plt.ylabel('True Positive Rate')\n",
    "plt.title('Flight Delays AUC')\n",
    "plt.legend()\n",
    "plt.show()"
   ]
  },
  {
   "cell_type": "code",
   "execution_count": null,
   "metadata": {},
   "outputs": [],
   "source": []
  }
 ],
 "metadata": {
  "kernelspec": {
   "display_name": "Python 3",
   "language": "python",
   "name": "python3"
  },
  "language_info": {
   "codemirror_mode": {
    "name": "ipython",
    "version": 3
   },
   "file_extension": ".py",
   "mimetype": "text/x-python",
   "name": "python",
   "nbconvert_exporter": "python",
   "pygments_lexer": "ipython3",
   "version": "3.7.4"
  }
 },
 "nbformat": 4,
 "nbformat_minor": 2
}
